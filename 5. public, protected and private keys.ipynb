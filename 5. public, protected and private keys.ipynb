{
 "cells": [
  {
   "cell_type": "markdown",
   "id": "60e6eaa2",
   "metadata": {},
   "source": [
    "* public ==> variablename (Public members (generally methods declared in a class) are accessible from outside the class.)\n",
    "* protected ==> _variablename (Protected members of a class are accessible from within the class and are also available to its sub-classes)\n",
    "* private ==> __variablename (The double underscore __ prefixed to a variable makes it private. It gives a strong suggestion not to touch it from outside the class.)"
   ]
  },
  {
   "cell_type": "code",
   "execution_count": 1,
   "id": "78187194",
   "metadata": {},
   "outputs": [],
   "source": [
    "class Car:\n",
    "    num_wheels = 4\n",
    "    _color = \"Black\"\n",
    "    __year = \"2017\"\n",
    "\n",
    "class BMW(Car):\n",
    "    def __init__(self):\n",
    "        print(\"color:\",self._color)\n",
    "        print(\"year:\",self.__year)"
   ]
  },
  {
   "cell_type": "code",
   "execution_count": 2,
   "id": "c8750b5e",
   "metadata": {},
   "outputs": [
    {
     "name": "stdout",
     "output_type": "stream",
     "text": [
      "4\n",
      "Black\n"
     ]
    },
    {
     "ename": "AttributeError",
     "evalue": "'Car' object has no attribute '__year'",
     "output_type": "error",
     "traceback": [
      "\u001b[0;31m---------------------------------------------------------------------------\u001b[0m",
      "\u001b[0;31mAttributeError\u001b[0m                            Traceback (most recent call last)",
      "\u001b[0;32m<ipython-input-2-ffba77ac6c69>\u001b[0m in \u001b[0;36m<module>\u001b[0;34m\u001b[0m\n\u001b[1;32m      2\u001b[0m \u001b[0mprint\u001b[0m\u001b[0;34m(\u001b[0m\u001b[0mcar\u001b[0m\u001b[0;34m.\u001b[0m\u001b[0mnum_wheels\u001b[0m\u001b[0;34m)\u001b[0m\u001b[0;34m\u001b[0m\u001b[0;34m\u001b[0m\u001b[0m\n\u001b[1;32m      3\u001b[0m \u001b[0mprint\u001b[0m\u001b[0;34m(\u001b[0m\u001b[0mcar\u001b[0m\u001b[0;34m.\u001b[0m\u001b[0m_color\u001b[0m\u001b[0;34m)\u001b[0m\u001b[0;34m\u001b[0m\u001b[0;34m\u001b[0m\u001b[0m\n\u001b[0;32m----> 4\u001b[0;31m \u001b[0mprint\u001b[0m\u001b[0;34m(\u001b[0m\u001b[0mcar\u001b[0m\u001b[0;34m.\u001b[0m\u001b[0m__year\u001b[0m\u001b[0;34m)\u001b[0m\u001b[0;34m\u001b[0m\u001b[0;34m\u001b[0m\u001b[0m\n\u001b[0m",
      "\u001b[0;31mAttributeError\u001b[0m: 'Car' object has no attribute '__year'"
     ]
    }
   ],
   "source": [
    "car = Car()\n",
    "print(car.num_wheels)\n",
    "print(car._color)\n",
    "print(car.__year)"
   ]
  },
  {
   "cell_type": "code",
   "execution_count": 3,
   "id": "56fe7c54",
   "metadata": {},
   "outputs": [
    {
     "data": {
      "text/plain": [
       "'2017'"
      ]
     },
     "execution_count": 3,
     "metadata": {},
     "output_type": "execute_result"
    }
   ],
   "source": [
    "car._Car__year"
   ]
  },
  {
   "cell_type": "code",
   "execution_count": 4,
   "id": "363af3fb",
   "metadata": {},
   "outputs": [
    {
     "name": "stdout",
     "output_type": "stream",
     "text": [
      "color: Black\n"
     ]
    },
    {
     "ename": "AttributeError",
     "evalue": "'BMW' object has no attribute '_BMW__year'",
     "output_type": "error",
     "traceback": [
      "\u001b[0;31m---------------------------------------------------------------------------\u001b[0m",
      "\u001b[0;31mAttributeError\u001b[0m                            Traceback (most recent call last)",
      "\u001b[0;32m<ipython-input-4-d28d3f13550e>\u001b[0m in \u001b[0;36m<module>\u001b[0;34m\u001b[0m\n\u001b[0;32m----> 1\u001b[0;31m \u001b[0mbmw\u001b[0m \u001b[0;34m=\u001b[0m \u001b[0mBMW\u001b[0m\u001b[0;34m(\u001b[0m\u001b[0;34m)\u001b[0m\u001b[0;34m\u001b[0m\u001b[0;34m\u001b[0m\u001b[0m\n\u001b[0m",
      "\u001b[0;32m<ipython-input-1-7336f67c153f>\u001b[0m in \u001b[0;36m__init__\u001b[0;34m(self)\u001b[0m\n\u001b[1;32m      7\u001b[0m     \u001b[0;32mdef\u001b[0m \u001b[0m__init__\u001b[0m\u001b[0;34m(\u001b[0m\u001b[0mself\u001b[0m\u001b[0;34m)\u001b[0m\u001b[0;34m:\u001b[0m\u001b[0;34m\u001b[0m\u001b[0;34m\u001b[0m\u001b[0m\n\u001b[1;32m      8\u001b[0m         \u001b[0mprint\u001b[0m\u001b[0;34m(\u001b[0m\u001b[0;34m\"color:\"\u001b[0m\u001b[0;34m,\u001b[0m\u001b[0mself\u001b[0m\u001b[0;34m.\u001b[0m\u001b[0m_color\u001b[0m\u001b[0;34m)\u001b[0m\u001b[0;34m\u001b[0m\u001b[0;34m\u001b[0m\u001b[0m\n\u001b[0;32m----> 9\u001b[0;31m         \u001b[0mprint\u001b[0m\u001b[0;34m(\u001b[0m\u001b[0;34m\"year:\"\u001b[0m\u001b[0;34m,\u001b[0m\u001b[0mself\u001b[0m\u001b[0;34m.\u001b[0m\u001b[0m__year\u001b[0m\u001b[0;34m)\u001b[0m\u001b[0;34m\u001b[0m\u001b[0;34m\u001b[0m\u001b[0m\n\u001b[0m",
      "\u001b[0;31mAttributeError\u001b[0m: 'BMW' object has no attribute '_BMW__year'"
     ]
    }
   ],
   "source": [
    "bmw = BMW()"
   ]
  },
  {
   "cell_type": "markdown",
   "id": "63258a82",
   "metadata": {},
   "source": [
    "----"
   ]
  },
  {
   "cell_type": "code",
   "execution_count": 5,
   "id": "1033cca0",
   "metadata": {},
   "outputs": [],
   "source": [
    "class Car:\n",
    "    num_wheels = 4\n",
    "    _color = \"Black\"\n",
    "    __year = \"2017\"\n",
    "\n",
    "class BMW(Car):\n",
    "    def __init__(self):\n",
    "        print(\"color:\",self._color)\n",
    "        print(\"year:\",self._Car__year)"
   ]
  },
  {
   "cell_type": "code",
   "execution_count": 6,
   "id": "5bf1934f",
   "metadata": {},
   "outputs": [
    {
     "name": "stdout",
     "output_type": "stream",
     "text": [
      "color: Black\n",
      "year: 2017\n"
     ]
    }
   ],
   "source": [
    "bmw = BMW()"
   ]
  },
  {
   "cell_type": "code",
   "execution_count": null,
   "id": "89f95d4c",
   "metadata": {},
   "outputs": [],
   "source": []
  }
 ],
 "metadata": {
  "kernelspec": {
   "display_name": "Python 3",
   "language": "python",
   "name": "python3"
  },
  "language_info": {
   "codemirror_mode": {
    "name": "ipython",
    "version": 3
   },
   "file_extension": ".py",
   "mimetype": "text/x-python",
   "name": "python",
   "nbconvert_exporter": "python",
   "pygments_lexer": "ipython3",
   "version": "3.8.8"
  }
 },
 "nbformat": 4,
 "nbformat_minor": 5
}
