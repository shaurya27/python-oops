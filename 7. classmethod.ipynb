{
 "cells": [
  {
   "cell_type": "markdown",
   "id": "ddff327f",
   "metadata": {},
   "source": [
    "```classmethod()``` methods are bound to a class rather than an object."
   ]
  },
  {
   "cell_type": "code",
   "execution_count": 48,
   "id": "77e47816",
   "metadata": {},
   "outputs": [],
   "source": [
    "class Employee:\n",
    "    \n",
    "    def __init__(self,name):\n",
    "        self.company = \"Xyz\"\n",
    "        self.employee_name = name\n",
    "        \n",
    "    @classmethod\n",
    "    def employeeDetails(cls,name):\n",
    "        return cls(name)\n",
    "    \n",
    "    def workingHours(self):\n",
    "        print(\"Hours:\",40)"
   ]
  },
  {
   "cell_type": "code",
   "execution_count": 49,
   "id": "601013a2",
   "metadata": {},
   "outputs": [],
   "source": [
    "employee1 = Employee.employeeDetails(\"Mark\")"
   ]
  },
  {
   "cell_type": "code",
   "execution_count": 50,
   "id": "72018a6f",
   "metadata": {},
   "outputs": [
    {
     "name": "stdout",
     "output_type": "stream",
     "text": [
      "Hours: 40\n"
     ]
    }
   ],
   "source": [
    "employee1.workingHours()"
   ]
  },
  {
   "cell_type": "markdown",
   "id": "dcf99f55",
   "metadata": {},
   "source": [
    "----"
   ]
  },
  {
   "cell_type": "code",
   "execution_count": 55,
   "id": "1c784392",
   "metadata": {},
   "outputs": [],
   "source": [
    "class Employee:\n",
    "    \n",
    "    def __init__(self,name):\n",
    "        self.company = \"Xyz\"\n",
    "        self.employee_name = name\n",
    "        \n",
    "    @classmethod\n",
    "    def employeeDetails(cls,name):\n",
    "        cls.mail = \"www.xyz.com\"\n",
    "        return cls(name)\n",
    "    \n",
    "    def workingHours(self):\n",
    "        print(\"Hours:\",40)"
   ]
  },
  {
   "cell_type": "code",
   "execution_count": 56,
   "id": "2eca591e",
   "metadata": {},
   "outputs": [
    {
     "name": "stdout",
     "output_type": "stream",
     "text": [
      "Hours: 40\n"
     ]
    },
    {
     "ename": "AttributeError",
     "evalue": "'Employee' object has no attribute 'mail'",
     "output_type": "error",
     "traceback": [
      "\u001b[0;31m---------------------------------------------------------------------------\u001b[0m",
      "\u001b[0;31mAttributeError\u001b[0m                            Traceback (most recent call last)",
      "\u001b[0;32m<ipython-input-56-3cc0037f4513>\u001b[0m in \u001b[0;36m<module>\u001b[0;34m\u001b[0m\n\u001b[1;32m      1\u001b[0m \u001b[0memployee1\u001b[0m \u001b[0;34m=\u001b[0m \u001b[0mEmployee\u001b[0m\u001b[0;34m(\u001b[0m\u001b[0;34m\"Mark\"\u001b[0m\u001b[0;34m)\u001b[0m\u001b[0;34m\u001b[0m\u001b[0;34m\u001b[0m\u001b[0m\n\u001b[1;32m      2\u001b[0m \u001b[0memployee1\u001b[0m\u001b[0;34m.\u001b[0m\u001b[0mworkingHours\u001b[0m\u001b[0;34m(\u001b[0m\u001b[0;34m)\u001b[0m\u001b[0;34m\u001b[0m\u001b[0;34m\u001b[0m\u001b[0m\n\u001b[0;32m----> 3\u001b[0;31m \u001b[0mprint\u001b[0m\u001b[0;34m(\u001b[0m\u001b[0memployee1\u001b[0m\u001b[0;34m.\u001b[0m\u001b[0mmail\u001b[0m\u001b[0;34m)\u001b[0m\u001b[0;34m\u001b[0m\u001b[0;34m\u001b[0m\u001b[0m\n\u001b[0m",
      "\u001b[0;31mAttributeError\u001b[0m: 'Employee' object has no attribute 'mail'"
     ]
    }
   ],
   "source": [
    "employee1 = Employee(\"Mark\")\n",
    "employee1.workingHours()\n",
    "print(employee1.mail)"
   ]
  },
  {
   "cell_type": "code",
   "execution_count": 57,
   "id": "4a8dfade",
   "metadata": {},
   "outputs": [],
   "source": [
    "employee2 = Employee.employeeDetails(\"Mark\")"
   ]
  },
  {
   "cell_type": "code",
   "execution_count": 58,
   "id": "5c10c75d",
   "metadata": {},
   "outputs": [
    {
     "name": "stdout",
     "output_type": "stream",
     "text": [
      "Hours: 40\n",
      "www.xyz.com\n"
     ]
    }
   ],
   "source": [
    "employee2.workingHours()\n",
    "print(employee2.mail)"
   ]
  },
  {
   "cell_type": "code",
   "execution_count": 59,
   "id": "3d24edc6",
   "metadata": {},
   "outputs": [
    {
     "name": "stdout",
     "output_type": "stream",
     "text": [
      "www.xyz.com\n"
     ]
    }
   ],
   "source": [
    "print(employee1.mail)"
   ]
  },
  {
   "cell_type": "code",
   "execution_count": null,
   "id": "917aa11b",
   "metadata": {},
   "outputs": [],
   "source": []
  }
 ],
 "metadata": {
  "kernelspec": {
   "display_name": "Python 3",
   "language": "python",
   "name": "python3"
  },
  "language_info": {
   "codemirror_mode": {
    "name": "ipython",
    "version": 3
   },
   "file_extension": ".py",
   "mimetype": "text/x-python",
   "name": "python",
   "nbconvert_exporter": "python",
   "pygments_lexer": "ipython3",
   "version": "3.8.8"
  }
 },
 "nbformat": 4,
 "nbformat_minor": 5
}
