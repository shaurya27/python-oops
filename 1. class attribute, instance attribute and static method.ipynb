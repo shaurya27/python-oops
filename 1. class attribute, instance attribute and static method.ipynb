{
 "cells": [
  {
   "cell_type": "markdown",
   "id": "d222683c",
   "metadata": {},
   "source": [
    "## This will give an error"
   ]
  },
  {
   "cell_type": "code",
   "execution_count": 1,
   "id": "fbda05a1",
   "metadata": {},
   "outputs": [
    {
     "ename": "TypeError",
     "evalue": "employeeDetails() takes 0 positional arguments but 1 was given",
     "output_type": "error",
     "traceback": [
      "\u001b[0;31m---------------------------------------------------------------------------\u001b[0m",
      "\u001b[0;31mTypeError\u001b[0m                                 Traceback (most recent call last)",
      "\u001b[0;32m<ipython-input-1-5d47048da50d>\u001b[0m in \u001b[0;36m<module>\u001b[0;34m\u001b[0m\n\u001b[1;32m      5\u001b[0m \u001b[0;34m\u001b[0m\u001b[0m\n\u001b[1;32m      6\u001b[0m \u001b[0memployee\u001b[0m \u001b[0;34m=\u001b[0m \u001b[0mEmployee\u001b[0m\u001b[0;34m(\u001b[0m\u001b[0;34m)\u001b[0m\u001b[0;34m\u001b[0m\u001b[0;34m\u001b[0m\u001b[0m\n\u001b[0;32m----> 7\u001b[0;31m \u001b[0memployee\u001b[0m\u001b[0;34m.\u001b[0m\u001b[0memployeeDetails\u001b[0m\u001b[0;34m(\u001b[0m\u001b[0;34m)\u001b[0m\u001b[0;34m\u001b[0m\u001b[0;34m\u001b[0m\u001b[0m\n\u001b[0m",
      "\u001b[0;31mTypeError\u001b[0m: employeeDetails() takes 0 positional arguments but 1 was given"
     ]
    }
   ],
   "source": [
    "class Employee:\n",
    "    \n",
    "    def employeeDetails():\n",
    "        print(\"No details\")\n",
    "        \n",
    "employee = Employee()\n",
    "employee.employeeDetails()"
   ]
  },
  {
   "cell_type": "markdown",
   "id": "eaf7a943",
   "metadata": {},
   "source": [
    "#### Error\n",
    "**TypeError: employeeDetails() takes 0 positional arguments but 1 was given** ??<br>\n",
    "**Is something missing??** Yes <br>\n",
    "When we call ```employee.employeeDetails()```, It is same ```Employee.employeeDetails(employee)``` that means object is passed automatically by python"
   ]
  },
  {
   "cell_type": "markdown",
   "id": "e3d2dbfd",
   "metadata": {},
   "source": [
    "------"
   ]
  },
  {
   "cell_type": "markdown",
   "id": "50c1464c",
   "metadata": {},
   "source": [
    "## this will work"
   ]
  },
  {
   "cell_type": "code",
   "execution_count": 2,
   "id": "dcf07eed",
   "metadata": {},
   "outputs": [
    {
     "name": "stdout",
     "output_type": "stream",
     "text": [
      "No details\n",
      "No details\n"
     ]
    }
   ],
   "source": [
    "class Employee:\n",
    "    \n",
    "    def employeeDetails(self):\n",
    "        print(\"No details\")\n",
    "        \n",
    "employee_ = Employee()\n",
    "Employee.employeeDetails(employee_)\n",
    "employee_.employeeDetails()"
   ]
  },
  {
   "cell_type": "markdown",
   "id": "fb7a0211",
   "metadata": {},
   "source": [
    "--------"
   ]
  },
  {
   "cell_type": "markdown",
   "id": "aebca0d1",
   "metadata": {},
   "source": [
    "## Class attribute and instance attribute"
   ]
  },
  {
   "cell_type": "markdown",
   "id": "150fc1b7",
   "metadata": {},
   "source": [
    "**NOTE:** But be careful, if you want to change a class attribute, you have to do it with the notation ClassName.AttributeName. Otherwise, you will create a new instance variable. We demonstrate this in the following example:\n",
    "\n",
    "https://www.python-course.eu/python3_class_and_instance_attributes.php#:~:text=Instance%20attributes%20are%20owned%20by%20the%20specific%20instances%20of%20a%20class.&text=Class%20attributes%20are%20attributes%20which,same%20value%20for%20every%20instance"
   ]
  },
  {
   "cell_type": "code",
   "execution_count": 3,
   "id": "9e7eff2c",
   "metadata": {},
   "outputs": [
    {
     "name": "stdout",
     "output_type": "stream",
     "text": [
      "Employee name: Mark\n",
      "Welcome: Marry\n"
     ]
    }
   ],
   "source": [
    "class Employee:\n",
    "    name = \"Mark\"\n",
    "    \n",
    "    def employeeDetails(self):\n",
    "        print(\"Employee name:\",self.name)\n",
    "    \n",
    "    def welcomeEmployee(self):\n",
    "        self.name = \"Marry\"\n",
    "        print(\"Welcome:\",self.name)\n",
    "        \n",
    "employee = Employee()\n",
    "employee.employeeDetails()\n",
    "employee.welcomeEmployee()"
   ]
  },
  {
   "cell_type": "code",
   "execution_count": 4,
   "id": "027247db",
   "metadata": {},
   "outputs": [
    {
     "data": {
      "text/plain": [
       "('Marry', 'Mark')"
      ]
     },
     "execution_count": 4,
     "metadata": {},
     "output_type": "execute_result"
    }
   ],
   "source": [
    "employee.name, Employee.name"
   ]
  },
  {
   "cell_type": "code",
   "execution_count": 5,
   "id": "0df10b5e",
   "metadata": {},
   "outputs": [
    {
     "name": "stdout",
     "output_type": "stream",
     "text": [
      "Employee name: Marry\n",
      "Welcome: Marry\n"
     ]
    }
   ],
   "source": [
    "Employee.name = \"Jack\"\n",
    "employee.employeeDetails()\n",
    "employee.welcomeEmployee()"
   ]
  },
  {
   "cell_type": "code",
   "execution_count": 6,
   "id": "c48c5031",
   "metadata": {},
   "outputs": [
    {
     "name": "stdout",
     "output_type": "stream",
     "text": [
      "Employee name: Jack\n"
     ]
    }
   ],
   "source": [
    "employee2 = Employee()\n",
    "employee2.employeeDetails()"
   ]
  },
  {
   "cell_type": "code",
   "execution_count": 7,
   "id": "2a0b1b36",
   "metadata": {},
   "outputs": [
    {
     "name": "stdout",
     "output_type": "stream",
     "text": [
      "Employee name: Harry\n"
     ]
    }
   ],
   "source": [
    "Employee.name = \"Harry\"\n",
    "employee2.employeeDetails()"
   ]
  },
  {
   "cell_type": "markdown",
   "id": "e3190083",
   "metadata": {},
   "source": [
    "------"
   ]
  },
  {
   "cell_type": "code",
   "execution_count": 8,
   "id": "3e6aba75",
   "metadata": {},
   "outputs": [],
   "source": [
    "class Employee:\n",
    "    age = 0\n",
    "    \n",
    "    def employeeDetails(self):\n",
    "        print(\"Employee age:\",self.age)\n",
    "    \n",
    "    def increaseEmployeeAge(self):\n",
    "        self.age +=1\n",
    "        print(\"increase age:\",self.age)"
   ]
  },
  {
   "cell_type": "code",
   "execution_count": 9,
   "id": "0cfc77f7",
   "metadata": {},
   "outputs": [
    {
     "name": "stdout",
     "output_type": "stream",
     "text": [
      "Employee age: 0\n",
      "increase age: 1\n"
     ]
    }
   ],
   "source": [
    "Employee.age\n",
    "employee = Employee()\n",
    "employee.employeeDetails()\n",
    "employee.increaseEmployeeAge()"
   ]
  },
  {
   "cell_type": "code",
   "execution_count": 10,
   "id": "6acca4fd",
   "metadata": {},
   "outputs": [
    {
     "data": {
      "text/plain": [
       "(1, 0)"
      ]
     },
     "execution_count": 10,
     "metadata": {},
     "output_type": "execute_result"
    }
   ],
   "source": [
    "employee.age,Employee.age"
   ]
  },
  {
   "cell_type": "code",
   "execution_count": 11,
   "id": "c8988e35",
   "metadata": {},
   "outputs": [
    {
     "data": {
      "text/plain": [
       "{'age': 1}"
      ]
     },
     "execution_count": 11,
     "metadata": {},
     "output_type": "execute_result"
    }
   ],
   "source": [
    "employee.__dict__"
   ]
  },
  {
   "cell_type": "code",
   "execution_count": 12,
   "id": "d16ffd99",
   "metadata": {},
   "outputs": [
    {
     "data": {
      "text/plain": [
       "mappingproxy({'__module__': '__main__',\n",
       "              'age': 0,\n",
       "              'employeeDetails': <function __main__.Employee.employeeDetails(self)>,\n",
       "              'increaseEmployeeAge': <function __main__.Employee.increaseEmployeeAge(self)>,\n",
       "              '__dict__': <attribute '__dict__' of 'Employee' objects>,\n",
       "              '__weakref__': <attribute '__weakref__' of 'Employee' objects>,\n",
       "              '__doc__': None})"
      ]
     },
     "execution_count": 12,
     "metadata": {},
     "output_type": "execute_result"
    }
   ],
   "source": [
    "Employee.__dict__"
   ]
  },
  {
   "cell_type": "markdown",
   "id": "15ed0886",
   "metadata": {},
   "source": [
    "-----"
   ]
  },
  {
   "cell_type": "markdown",
   "id": "a268377f",
   "metadata": {},
   "source": [
    "**NOTE:** When you try to access an attribute from an instance of a class, it first looks at its instance namespace. If it finds the attribute, it returns the associated value. If not, it then looks in the class namespace and returns the attribute (if it’s present, throwing an error otherwise).\n",
    "    \n",
    "https://www.toptal.com/python/python-class-attributes-an-overly-thorough-guide"
   ]
  },
  {
   "cell_type": "code",
   "execution_count": 13,
   "id": "ad8329df",
   "metadata": {},
   "outputs": [
    {
     "name": "stdout",
     "output_type": "stream",
     "text": [
      "1\n",
      "1\n"
     ]
    }
   ],
   "source": [
    "class sampleclass:\n",
    "    count = 0    \n",
    "  \n",
    "    def increase(self):\n",
    "        self.count += 1\n",
    "        \n",
    "\n",
    "s1 = sampleclass()\n",
    "s1.increase()        \n",
    "print(s1.count)\n",
    "  \n",
    "s2 = sampleclass()\n",
    "s2.increase()\n",
    "print(s2.count)"
   ]
  },
  {
   "cell_type": "code",
   "execution_count": 14,
   "id": "bf015eb0",
   "metadata": {},
   "outputs": [
    {
     "name": "stdout",
     "output_type": "stream",
     "text": [
      "1\n",
      "2\n"
     ]
    }
   ],
   "source": [
    "class sampleclass:\n",
    "    count = 0     \n",
    "  \n",
    "    def increase(self):\n",
    "        sampleclass.count += 1\n",
    "        \n",
    "s1 = sampleclass()\n",
    "s1.increase()        \n",
    "print(s1.count)\n",
    "  \n",
    "\n",
    "s2 = sampleclass()\n",
    "s2.increase()\n",
    "print(s2.count)"
   ]
  },
  {
   "cell_type": "markdown",
   "id": "ebe0d305",
   "metadata": {},
   "source": [
    "--------"
   ]
  },
  {
   "cell_type": "code",
   "execution_count": 15,
   "id": "95d99536",
   "metadata": {},
   "outputs": [
    {
     "name": "stdout",
     "output_type": "stream",
     "text": [
      "Employee name: Mark\n",
      "Welcome: Marry\n"
     ]
    }
   ],
   "source": [
    "class Employee:\n",
    "    name = \"Mark\"\n",
    "    \n",
    "    def employeeDetails(self):\n",
    "        print(\"Employee name:\",self.name)\n",
    "    \n",
    "    def welcomeEmployee(self):\n",
    "        name = \"Marry\"\n",
    "        print(\"Welcome:\",name)\n",
    "        \n",
    "employee = Employee()\n",
    "employee.employeeDetails()\n",
    "employee.welcomeEmployee()"
   ]
  },
  {
   "cell_type": "code",
   "execution_count": 16,
   "id": "3c776e3b",
   "metadata": {},
   "outputs": [
    {
     "name": "stdout",
     "output_type": "stream",
     "text": [
      "Employee name: Mark\n"
     ]
    }
   ],
   "source": [
    "employee.employeeDetails()"
   ]
  },
  {
   "cell_type": "markdown",
   "id": "548a5166",
   "metadata": {},
   "source": [
    "---------"
   ]
  },
  {
   "cell_type": "markdown",
   "id": "33508902",
   "metadata": {},
   "source": [
    "## Static Method"
   ]
  },
  {
   "cell_type": "code",
   "execution_count": 17,
   "id": "a0d4b536",
   "metadata": {},
   "outputs": [
    {
     "ename": "NameError",
     "evalue": "name 'self' is not defined",
     "output_type": "error",
     "traceback": [
      "\u001b[0;31m---------------------------------------------------------------------------\u001b[0m",
      "\u001b[0;31mNameError\u001b[0m                                 Traceback (most recent call last)",
      "\u001b[0;32m<ipython-input-17-b0a33c044fc6>\u001b[0m in \u001b[0;36m<module>\u001b[0;34m\u001b[0m\n\u001b[1;32m     12\u001b[0m         \u001b[0mprint\u001b[0m\u001b[0;34m(\u001b[0m\u001b[0;34m\"Number of employee\"\u001b[0m\u001b[0;34m,\u001b[0m\u001b[0mself\u001b[0m\u001b[0;34m.\u001b[0m\u001b[0mnumber_of_emp\u001b[0m\u001b[0;34m)\u001b[0m\u001b[0;34m\u001b[0m\u001b[0;34m\u001b[0m\u001b[0m\n\u001b[1;32m     13\u001b[0m \u001b[0;34m\u001b[0m\u001b[0m\n\u001b[0;32m---> 14\u001b[0;31m \u001b[0mEmployee\u001b[0m\u001b[0;34m.\u001b[0m\u001b[0mnumberOfEmployee\u001b[0m\u001b[0;34m(\u001b[0m\u001b[0;34m)\u001b[0m\u001b[0;34m\u001b[0m\u001b[0;34m\u001b[0m\u001b[0m\n\u001b[0m\u001b[1;32m     15\u001b[0m \u001b[0memployee\u001b[0m \u001b[0;34m=\u001b[0m \u001b[0mEmployee\u001b[0m\u001b[0;34m(\u001b[0m\u001b[0;34m)\u001b[0m\u001b[0;34m\u001b[0m\u001b[0;34m\u001b[0m\u001b[0m\n\u001b[1;32m     16\u001b[0m \u001b[0memployee\u001b[0m\u001b[0;34m.\u001b[0m\u001b[0memployeeDetails\u001b[0m\u001b[0;34m(\u001b[0m\u001b[0;34m)\u001b[0m\u001b[0;34m\u001b[0m\u001b[0;34m\u001b[0m\u001b[0m\n",
      "\u001b[0;32m<ipython-input-17-b0a33c044fc6>\u001b[0m in \u001b[0;36mnumberOfEmployee\u001b[0;34m()\u001b[0m\n\u001b[1;32m      8\u001b[0m     \u001b[0;34m@\u001b[0m\u001b[0mstaticmethod\u001b[0m\u001b[0;34m\u001b[0m\u001b[0;34m\u001b[0m\u001b[0m\n\u001b[1;32m      9\u001b[0m     \u001b[0;32mdef\u001b[0m \u001b[0mnumberOfEmployee\u001b[0m\u001b[0;34m(\u001b[0m\u001b[0;34m)\u001b[0m\u001b[0;34m:\u001b[0m\u001b[0;34m\u001b[0m\u001b[0;34m\u001b[0m\u001b[0m\n\u001b[0;32m---> 10\u001b[0;31m         \u001b[0mself\u001b[0m\u001b[0;34m.\u001b[0m\u001b[0mnumber_of_emp\u001b[0m \u001b[0;34m=\u001b[0m\u001b[0;36m10\u001b[0m\u001b[0;34m\u001b[0m\u001b[0;34m\u001b[0m\u001b[0m\n\u001b[0m\u001b[1;32m     11\u001b[0m         \u001b[0mprint\u001b[0m\u001b[0;34m(\u001b[0m\u001b[0;34m\"Welcome:\"\u001b[0m\u001b[0;34m,\u001b[0m\u001b[0mself\u001b[0m\u001b[0;34m.\u001b[0m\u001b[0mcompany\u001b[0m\u001b[0;34m)\u001b[0m\u001b[0;34m\u001b[0m\u001b[0;34m\u001b[0m\u001b[0m\n\u001b[1;32m     12\u001b[0m         \u001b[0mprint\u001b[0m\u001b[0;34m(\u001b[0m\u001b[0;34m\"Number of employee\"\u001b[0m\u001b[0;34m,\u001b[0m\u001b[0mself\u001b[0m\u001b[0;34m.\u001b[0m\u001b[0mnumber_of_emp\u001b[0m\u001b[0;34m)\u001b[0m\u001b[0;34m\u001b[0m\u001b[0;34m\u001b[0m\u001b[0m\n",
      "\u001b[0;31mNameError\u001b[0m: name 'self' is not defined"
     ]
    }
   ],
   "source": [
    "class Employee:\n",
    "    name = \"Mark\"\n",
    "    company = \"XYZ company\"\n",
    "    \n",
    "    def employeeDetails(self):\n",
    "        print(\"Employee name:\",self.name)\n",
    "    \n",
    "    @staticmethod\n",
    "    def numberOfEmployee():\n",
    "        self.number_of_emp =10\n",
    "        print(\"Welcome:\",self.company)\n",
    "        print(\"Number of employee\",self.number_of_emp)\n",
    "        \n",
    "Employee.numberOfEmployee()\n",
    "employee = Employee()\n",
    "employee.employeeDetails()\n",
    "employee.numberOfEmployee()"
   ]
  },
  {
   "cell_type": "markdown",
   "id": "bc0fd335",
   "metadata": {},
   "source": [
    "**Why the above error** ?? <br>\n",
    "Only use ```@staticmethod``` if you are creating a function that you'd normally want to tie to specific classes but do not need any other context"
   ]
  },
  {
   "cell_type": "markdown",
   "id": "a7045ba7",
   "metadata": {},
   "source": [
    "**Want to use other functions in this class?** <br> \n",
    "Then you will have to use the full name of the class as a prefix:"
   ]
  },
  {
   "cell_type": "code",
   "execution_count": 18,
   "id": "2367f75d",
   "metadata": {},
   "outputs": [
    {
     "name": "stdout",
     "output_type": "stream",
     "text": [
      "Welcome: XYZ company\n",
      "Number of employee 10\n",
      "Employee name: Mark\n",
      "Welcome: XYZ company\n",
      "Number of employee 10\n"
     ]
    }
   ],
   "source": [
    "class Employee:\n",
    "    name = \"Mark\"\n",
    "    company = \"XYZ company\"\n",
    "    \n",
    "    def employeeDetails(self):\n",
    "        print(\"Employee name:\",self.name)\n",
    "    \n",
    "    @staticmethod\n",
    "    def numberOfEmployee():\n",
    "        number_of_emp =10\n",
    "        print(\"Welcome:\",Employee.company)\n",
    "        print(\"Number of employee\",number_of_emp)\n",
    "        \n",
    "Employee.numberOfEmployee()\n",
    "employee = Employee()\n",
    "employee.employeeDetails()\n",
    "employee.numberOfEmployee()"
   ]
  },
  {
   "cell_type": "markdown",
   "id": "f5aa6170",
   "metadata": {},
   "source": [
    "-----"
   ]
  },
  {
   "cell_type": "markdown",
   "id": "788017c8",
   "metadata": {},
   "source": [
    "### __init__() method"
   ]
  },
  {
   "cell_type": "code",
   "execution_count": 19,
   "id": "aff297b0",
   "metadata": {},
   "outputs": [
    {
     "ename": "AttributeError",
     "evalue": "type object 'Employee' has no attribute 'company'",
     "output_type": "error",
     "traceback": [
      "\u001b[0;31m---------------------------------------------------------------------------\u001b[0m",
      "\u001b[0;31mAttributeError\u001b[0m                            Traceback (most recent call last)",
      "\u001b[0;32m<ipython-input-19-d29beb682310>\u001b[0m in \u001b[0;36m<module>\u001b[0;34m\u001b[0m\n\u001b[1;32m     13\u001b[0m         \u001b[0mprint\u001b[0m\u001b[0;34m(\u001b[0m\u001b[0;34m\"Number of employee\"\u001b[0m\u001b[0;34m,\u001b[0m\u001b[0mnumber_of_emp\u001b[0m\u001b[0;34m)\u001b[0m\u001b[0;34m\u001b[0m\u001b[0;34m\u001b[0m\u001b[0m\n\u001b[1;32m     14\u001b[0m \u001b[0;34m\u001b[0m\u001b[0m\n\u001b[0;32m---> 15\u001b[0;31m \u001b[0mEmployee\u001b[0m\u001b[0;34m.\u001b[0m\u001b[0mnumberOfEmployee\u001b[0m\u001b[0;34m(\u001b[0m\u001b[0;34m)\u001b[0m\u001b[0;34m\u001b[0m\u001b[0;34m\u001b[0m\u001b[0m\n\u001b[0m\u001b[1;32m     16\u001b[0m \u001b[0memployee\u001b[0m \u001b[0;34m=\u001b[0m \u001b[0mEmployee\u001b[0m\u001b[0;34m(\u001b[0m\u001b[0;34m\"mark\"\u001b[0m\u001b[0;34m,\u001b[0m\u001b[0;34m\"XYZ\"\u001b[0m\u001b[0;34m)\u001b[0m\u001b[0;34m\u001b[0m\u001b[0;34m\u001b[0m\u001b[0m\n\u001b[1;32m     17\u001b[0m \u001b[0memployee\u001b[0m\u001b[0;34m.\u001b[0m\u001b[0memployeeDetails\u001b[0m\u001b[0;34m(\u001b[0m\u001b[0;34m)\u001b[0m\u001b[0;34m\u001b[0m\u001b[0;34m\u001b[0m\u001b[0m\n",
      "\u001b[0;32m<ipython-input-19-d29beb682310>\u001b[0m in \u001b[0;36mnumberOfEmployee\u001b[0;34m()\u001b[0m\n\u001b[1;32m     10\u001b[0m     \u001b[0;32mdef\u001b[0m \u001b[0mnumberOfEmployee\u001b[0m\u001b[0;34m(\u001b[0m\u001b[0;34m)\u001b[0m\u001b[0;34m:\u001b[0m\u001b[0;34m\u001b[0m\u001b[0;34m\u001b[0m\u001b[0m\n\u001b[1;32m     11\u001b[0m         \u001b[0mnumber_of_emp\u001b[0m \u001b[0;34m=\u001b[0m\u001b[0;36m10\u001b[0m\u001b[0;34m\u001b[0m\u001b[0;34m\u001b[0m\u001b[0m\n\u001b[0;32m---> 12\u001b[0;31m         \u001b[0mprint\u001b[0m\u001b[0;34m(\u001b[0m\u001b[0;34m\"Welcome:\"\u001b[0m\u001b[0;34m,\u001b[0m\u001b[0mEmployee\u001b[0m\u001b[0;34m.\u001b[0m\u001b[0mcompany\u001b[0m\u001b[0;34m)\u001b[0m\u001b[0;34m\u001b[0m\u001b[0;34m\u001b[0m\u001b[0m\n\u001b[0m\u001b[1;32m     13\u001b[0m         \u001b[0mprint\u001b[0m\u001b[0;34m(\u001b[0m\u001b[0;34m\"Number of employee\"\u001b[0m\u001b[0;34m,\u001b[0m\u001b[0mnumber_of_emp\u001b[0m\u001b[0;34m)\u001b[0m\u001b[0;34m\u001b[0m\u001b[0;34m\u001b[0m\u001b[0m\n\u001b[1;32m     14\u001b[0m \u001b[0;34m\u001b[0m\u001b[0m\n",
      "\u001b[0;31mAttributeError\u001b[0m: type object 'Employee' has no attribute 'company'"
     ]
    }
   ],
   "source": [
    "class Employee:\n",
    "    def __init__(self,name,company):\n",
    "        self.name = name\n",
    "        self.company = company\n",
    "    \n",
    "    def employeeDetails(self):\n",
    "        print(\"Employee name:\",self.name)\n",
    "    \n",
    "    @staticmethod\n",
    "    def numberOfEmployee():\n",
    "        number_of_emp =10\n",
    "        print(\"Welcome:\",Employee.company)\n",
    "        print(\"Number of employee\",number_of_emp)\n",
    "        \n",
    "Employee.numberOfEmployee()\n",
    "employee = Employee(\"mark\",\"XYZ\")\n",
    "employee.employeeDetails()\n",
    "employee.numberOfEmployee()"
   ]
  },
  {
   "cell_type": "code",
   "execution_count": 20,
   "id": "5d990ed4",
   "metadata": {},
   "outputs": [
    {
     "ename": "AttributeError",
     "evalue": "type object 'Employee' has no attribute 'company'",
     "output_type": "error",
     "traceback": [
      "\u001b[0;31m---------------------------------------------------------------------------\u001b[0m",
      "\u001b[0;31mAttributeError\u001b[0m                            Traceback (most recent call last)",
      "\u001b[0;32m<ipython-input-20-b66df38505f6>\u001b[0m in \u001b[0;36m<module>\u001b[0;34m\u001b[0m\n\u001b[1;32m     14\u001b[0m \u001b[0;34m\u001b[0m\u001b[0m\n\u001b[1;32m     15\u001b[0m \u001b[0memployee\u001b[0m \u001b[0;34m=\u001b[0m \u001b[0mEmployee\u001b[0m\u001b[0;34m(\u001b[0m\u001b[0;34m\"mark\"\u001b[0m\u001b[0;34m,\u001b[0m\u001b[0;34m\"XYZ\"\u001b[0m\u001b[0;34m)\u001b[0m\u001b[0;34m\u001b[0m\u001b[0;34m\u001b[0m\u001b[0m\n\u001b[0;32m---> 16\u001b[0;31m \u001b[0mEmployee\u001b[0m\u001b[0;34m.\u001b[0m\u001b[0mnumberOfEmployee\u001b[0m\u001b[0;34m(\u001b[0m\u001b[0;34m)\u001b[0m\u001b[0;34m\u001b[0m\u001b[0;34m\u001b[0m\u001b[0m\n\u001b[0m\u001b[1;32m     17\u001b[0m \u001b[0memployee\u001b[0m\u001b[0;34m.\u001b[0m\u001b[0memployeeDetails\u001b[0m\u001b[0;34m(\u001b[0m\u001b[0;34m)\u001b[0m\u001b[0;34m\u001b[0m\u001b[0;34m\u001b[0m\u001b[0m\n\u001b[1;32m     18\u001b[0m \u001b[0memployee\u001b[0m\u001b[0;34m.\u001b[0m\u001b[0mnumberOfEmployee\u001b[0m\u001b[0;34m(\u001b[0m\u001b[0;34m)\u001b[0m\u001b[0;34m\u001b[0m\u001b[0;34m\u001b[0m\u001b[0m\n",
      "\u001b[0;32m<ipython-input-20-b66df38505f6>\u001b[0m in \u001b[0;36mnumberOfEmployee\u001b[0;34m()\u001b[0m\n\u001b[1;32m     10\u001b[0m     \u001b[0;32mdef\u001b[0m \u001b[0mnumberOfEmployee\u001b[0m\u001b[0;34m(\u001b[0m\u001b[0;34m)\u001b[0m\u001b[0;34m:\u001b[0m\u001b[0;34m\u001b[0m\u001b[0;34m\u001b[0m\u001b[0m\n\u001b[1;32m     11\u001b[0m         \u001b[0mnumber_of_emp\u001b[0m \u001b[0;34m=\u001b[0m\u001b[0;36m10\u001b[0m\u001b[0;34m\u001b[0m\u001b[0;34m\u001b[0m\u001b[0m\n\u001b[0;32m---> 12\u001b[0;31m         \u001b[0mprint\u001b[0m\u001b[0;34m(\u001b[0m\u001b[0;34m\"Welcome:\"\u001b[0m\u001b[0;34m,\u001b[0m\u001b[0mEmployee\u001b[0m\u001b[0;34m.\u001b[0m\u001b[0mcompany\u001b[0m\u001b[0;34m)\u001b[0m\u001b[0;34m\u001b[0m\u001b[0;34m\u001b[0m\u001b[0m\n\u001b[0m\u001b[1;32m     13\u001b[0m         \u001b[0mprint\u001b[0m\u001b[0;34m(\u001b[0m\u001b[0;34m\"Number of employee\"\u001b[0m\u001b[0;34m,\u001b[0m\u001b[0mnumber_of_emp\u001b[0m\u001b[0;34m)\u001b[0m\u001b[0;34m\u001b[0m\u001b[0;34m\u001b[0m\u001b[0m\n\u001b[1;32m     14\u001b[0m \u001b[0;34m\u001b[0m\u001b[0m\n",
      "\u001b[0;31mAttributeError\u001b[0m: type object 'Employee' has no attribute 'company'"
     ]
    }
   ],
   "source": [
    "class Employee:\n",
    "    def __init__(self,name,company):\n",
    "        self.name = name\n",
    "        self.company = company\n",
    "    \n",
    "    def employeeDetails(self):\n",
    "        print(\"Employee name:\",self.name)\n",
    "    \n",
    "    @staticmethod\n",
    "    def numberOfEmployee():\n",
    "        number_of_emp =10\n",
    "        print(\"Welcome:\",Employee.company)\n",
    "        print(\"Number of employee\",number_of_emp)\n",
    "        \n",
    "employee = Employee(\"mark\",\"XYZ\")\n",
    "Employee.numberOfEmployee()\n",
    "employee.employeeDetails()\n",
    "employee.numberOfEmployee()"
   ]
  },
  {
   "cell_type": "markdown",
   "id": "0748f74e",
   "metadata": {},
   "source": [
    "**NOTE:** variables in init are instance attribue that's why ```@staticmethod``` is giving an error"
   ]
  },
  {
   "cell_type": "markdown",
   "id": "85f5b551",
   "metadata": {},
   "source": [
    "------"
   ]
  },
  {
   "cell_type": "code",
   "execution_count": 21,
   "id": "bab98d9d",
   "metadata": {},
   "outputs": [
    {
     "name": "stdout",
     "output_type": "stream",
     "text": [
      "Number of employee 10\n",
      "Employee name: mark\n",
      "Number of employee 10\n"
     ]
    }
   ],
   "source": [
    "class Employee:\n",
    "    def __init__(self,name,company):\n",
    "        self.name = name\n",
    "        self.company = company\n",
    "    \n",
    "    def employeeDetails(self):\n",
    "        print(\"Employee name:\",self.name)\n",
    "    \n",
    "    @staticmethod\n",
    "    def numberOfEmployee():\n",
    "        number_of_emp =10\n",
    "        print(\"Number of employee\",number_of_emp)\n",
    "        \n",
    "Employee.numberOfEmployee()\n",
    "employee = Employee(\"mark\",\"XYZ\")\n",
    "employee.employeeDetails()\n",
    "employee.numberOfEmployee()"
   ]
  },
  {
   "cell_type": "markdown",
   "id": "3d55d271",
   "metadata": {},
   "source": [
    "**Error below becacuse:**\n",
    "variables in init are instance attribue not class attribute"
   ]
  },
  {
   "cell_type": "code",
   "execution_count": 22,
   "id": "e7f233b5",
   "metadata": {},
   "outputs": [
    {
     "ename": "AttributeError",
     "evalue": "type object 'Employee' has no attribute 'name'",
     "output_type": "error",
     "traceback": [
      "\u001b[0;31m---------------------------------------------------------------------------\u001b[0m",
      "\u001b[0;31mAttributeError\u001b[0m                            Traceback (most recent call last)",
      "\u001b[0;32m<ipython-input-22-30b1d128b34e>\u001b[0m in \u001b[0;36m<module>\u001b[0;34m\u001b[0m\n\u001b[0;32m----> 1\u001b[0;31m \u001b[0mEmployee\u001b[0m\u001b[0;34m.\u001b[0m\u001b[0mname\u001b[0m\u001b[0;34m\u001b[0m\u001b[0;34m\u001b[0m\u001b[0m\n\u001b[0m",
      "\u001b[0;31mAttributeError\u001b[0m: type object 'Employee' has no attribute 'name'"
     ]
    }
   ],
   "source": [
    "Employee.name"
   ]
  },
  {
   "cell_type": "code",
   "execution_count": null,
   "id": "221c988b",
   "metadata": {},
   "outputs": [],
   "source": []
  }
 ],
 "metadata": {
  "kernelspec": {
   "display_name": "Python 3",
   "language": "python",
   "name": "python3"
  },
  "language_info": {
   "codemirror_mode": {
    "name": "ipython",
    "version": 3
   },
   "file_extension": ".py",
   "mimetype": "text/x-python",
   "name": "python",
   "nbconvert_exporter": "python",
   "pygments_lexer": "ipython3",
   "version": "3.8.8"
  }
 },
 "nbformat": 4,
 "nbformat_minor": 5
}
