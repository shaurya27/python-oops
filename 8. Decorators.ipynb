{
 "cells": [
  {
   "cell_type": "code",
   "execution_count": 1,
   "id": "cfaf97d6",
   "metadata": {},
   "outputs": [],
   "source": [
    "# https://medium.com/techtofreedom/7-levels-of-using-decorators-in-python-370473fcbe76"
   ]
  },
  {
   "cell_type": "code",
   "execution_count": 14,
   "id": "ec4b0325",
   "metadata": {},
   "outputs": [],
   "source": [
    "def apple(func):\n",
    "    def wrapper():\n",
    "        return func() + \" made by Apple inc.\" \n",
    "    return wrapper\n",
    "    \n",
    "def macbook():\n",
    "    return \"macbook\""
   ]
  },
  {
   "cell_type": "code",
   "execution_count": 15,
   "id": "f2dc8b13",
   "metadata": {},
   "outputs": [
    {
     "data": {
      "text/plain": [
       "'macbook'"
      ]
     },
     "execution_count": 15,
     "metadata": {},
     "output_type": "execute_result"
    }
   ],
   "source": [
    "macbook()"
   ]
  },
  {
   "cell_type": "code",
   "execution_count": 16,
   "id": "572dc0f6",
   "metadata": {},
   "outputs": [],
   "source": [
    "def apple(func):\n",
    "    def wrapper():\n",
    "        return func() + \" made by Apple inc.\" \n",
    "    return wrapper\n",
    "\n",
    "@apple    \n",
    "def macbook():\n",
    "    return \"macbook\""
   ]
  },
  {
   "cell_type": "code",
   "execution_count": 17,
   "id": "025b444a",
   "metadata": {},
   "outputs": [
    {
     "data": {
      "text/plain": [
       "'macbook made by Apple inc.'"
      ]
     },
     "execution_count": 17,
     "metadata": {},
     "output_type": "execute_result"
    }
   ],
   "source": [
    "macbook()"
   ]
  },
  {
   "cell_type": "code",
   "execution_count": 19,
   "id": "b31d1daf",
   "metadata": {},
   "outputs": [],
   "source": [
    "def apple(func):\n",
    "    def wrapper():\n",
    "        return func() + \"made by Apple inc.\" \n",
    "    return wrapper\n",
    "\n",
    "@apple    \n",
    "def macbook(version):\n",
    "    return \"macbook \" + version"
   ]
  },
  {
   "cell_type": "code",
   "execution_count": 20,
   "id": "ea669339",
   "metadata": {},
   "outputs": [
    {
     "ename": "TypeError",
     "evalue": "wrapper() takes 0 positional arguments but 1 was given",
     "output_type": "error",
     "traceback": [
      "\u001b[0;31m---------------------------------------------------------------------------\u001b[0m",
      "\u001b[0;31mTypeError\u001b[0m                                 Traceback (most recent call last)",
      "\u001b[0;32m<ipython-input-20-df9a9caa7dab>\u001b[0m in \u001b[0;36m<module>\u001b[0;34m\u001b[0m\n\u001b[0;32m----> 1\u001b[0;31m \u001b[0mmacbook\u001b[0m\u001b[0;34m(\u001b[0m\u001b[0;34m\"M1\"\u001b[0m\u001b[0;34m)\u001b[0m\u001b[0;34m\u001b[0m\u001b[0;34m\u001b[0m\u001b[0m\n\u001b[0m",
      "\u001b[0;31mTypeError\u001b[0m: wrapper() takes 0 positional arguments but 1 was given"
     ]
    }
   ],
   "source": [
    "macbook(\"M1\")"
   ]
  },
  {
   "cell_type": "code",
   "execution_count": null,
   "id": "bab296f0",
   "metadata": {},
   "outputs": [],
   "source": []
  }
 ],
 "metadata": {
  "kernelspec": {
   "display_name": "Python 3",
   "language": "python",
   "name": "python3"
  },
  "language_info": {
   "codemirror_mode": {
    "name": "ipython",
    "version": 3
   },
   "file_extension": ".py",
   "mimetype": "text/x-python",
   "name": "python",
   "nbconvert_exporter": "python",
   "pygments_lexer": "ipython3",
   "version": "3.8.8"
  }
 },
 "nbformat": 4,
 "nbformat_minor": 5
}
