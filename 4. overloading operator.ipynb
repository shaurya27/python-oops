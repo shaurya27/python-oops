{
 "cells": [
  {
   "cell_type": "code",
   "execution_count": 1,
   "id": "ca3a7cef",
   "metadata": {},
   "outputs": [
    {
     "ename": "TypeError",
     "evalue": "unsupported operand type(s) for +: 'Square' and 'Square'",
     "output_type": "error",
     "traceback": [
      "\u001b[0;31m---------------------------------------------------------------------------\u001b[0m",
      "\u001b[0;31mTypeError\u001b[0m                                 Traceback (most recent call last)",
      "\u001b[0;32m<ipython-input-1-f6a04c407140>\u001b[0m in \u001b[0;36m<module>\u001b[0;34m\u001b[0m\n\u001b[1;32m      6\u001b[0m \u001b[0msquare1\u001b[0m \u001b[0;34m=\u001b[0m \u001b[0mSquare\u001b[0m\u001b[0;34m(\u001b[0m\u001b[0;36m5\u001b[0m\u001b[0;34m)\u001b[0m\u001b[0;34m\u001b[0m\u001b[0;34m\u001b[0m\u001b[0m\n\u001b[1;32m      7\u001b[0m \u001b[0msquare2\u001b[0m \u001b[0;34m=\u001b[0m \u001b[0mSquare\u001b[0m\u001b[0;34m(\u001b[0m\u001b[0;36m10\u001b[0m\u001b[0;34m)\u001b[0m\u001b[0;34m\u001b[0m\u001b[0;34m\u001b[0m\u001b[0m\n\u001b[0;32m----> 8\u001b[0;31m \u001b[0msquare1\u001b[0m\u001b[0;34m+\u001b[0m\u001b[0msquare2\u001b[0m\u001b[0;34m\u001b[0m\u001b[0;34m\u001b[0m\u001b[0m\n\u001b[0m",
      "\u001b[0;31mTypeError\u001b[0m: unsupported operand type(s) for +: 'Square' and 'Square'"
     ]
    }
   ],
   "source": [
    "class Square:\n",
    "    \n",
    "    def __init__(self,side):\n",
    "        self.side = side\n",
    "        \n",
    "square1 = Square(5)\n",
    "square2 = Square(10)\n",
    "square1+square2"
   ]
  },
  {
   "cell_type": "code",
   "execution_count": 2,
   "id": "f912fbfa",
   "metadata": {},
   "outputs": [
    {
     "data": {
      "text/plain": [
       "15"
      ]
     },
     "execution_count": 2,
     "metadata": {},
     "output_type": "execute_result"
    }
   ],
   "source": [
    "class Square:\n",
    "    \n",
    "    def __init__(self,side):\n",
    "        self.side = side\n",
    "        \n",
    "    def __add__(squareone,squaretwo):\n",
    "        return squareone.side+squaretwo.side\n",
    "        \n",
    "square1 = Square(5)\n",
    "square2 = Square(10)\n",
    "square1+square2"
   ]
  },
  {
   "cell_type": "code",
   "execution_count": 3,
   "id": "80c7d4dc",
   "metadata": {},
   "outputs": [
    {
     "name": "stdout",
     "output_type": "stream",
     "text": [
      "15\n",
      "2500\n"
     ]
    }
   ],
   "source": [
    "class Square:\n",
    "    \n",
    "    def __init__(self,side):\n",
    "        self.side = side\n",
    "        \n",
    "    def area(self):\n",
    "        return self.side**2\n",
    "        \n",
    "    def __add__(squareone,squaretwo):\n",
    "        return squareone.side+squaretwo.side\n",
    "    \n",
    "    def __mul__(squareone,squaretwo):\n",
    "        return squareone.area()* squaretwo.area()\n",
    "        \n",
    "square1 = Square(5)\n",
    "square2 = Square(10)\n",
    "print(square1+square2)\n",
    "print(square1*square2)"
   ]
  },
  {
   "cell_type": "code",
   "execution_count": null,
   "id": "0d54af40",
   "metadata": {},
   "outputs": [],
   "source": []
  },
  {
   "cell_type": "code",
   "execution_count": null,
   "id": "e1879460",
   "metadata": {},
   "outputs": [],
   "source": []
  }
 ],
 "metadata": {
  "kernelspec": {
   "display_name": "Python 3",
   "language": "python",
   "name": "python3"
  },
  "language_info": {
   "codemirror_mode": {
    "name": "ipython",
    "version": 3
   },
   "file_extension": ".py",
   "mimetype": "text/x-python",
   "name": "python",
   "nbconvert_exporter": "python",
   "pygments_lexer": "ipython3",
   "version": "3.8.8"
  }
 },
 "nbformat": 4,
 "nbformat_minor": 5
}
