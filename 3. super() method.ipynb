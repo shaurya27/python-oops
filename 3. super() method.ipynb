{
 "cells": [
  {
   "cell_type": "markdown",
   "id": "dc7e7995",
   "metadata": {},
   "source": [
    "The ```super()``` builtin returns a proxy object (temporary object of the superclass) that allows us to access methods of the base class."
   ]
  },
  {
   "cell_type": "code",
   "execution_count": 1,
   "id": "099868cb",
   "metadata": {},
   "outputs": [
    {
     "name": "stdout",
     "output_type": "stream",
     "text": [
      "macbook details\n",
      "Apple details\n"
     ]
    }
   ],
   "source": [
    "class Apple:\n",
    "    \n",
    "    def __init__(self):\n",
    "        self.name = \"apple\"\n",
    "        \n",
    "    def details(self):\n",
    "        print(\"Apple details\")\n",
    "\n",
    "        \n",
    "class Macbook(Apple):\n",
    "    \n",
    "    def __init__(self):\n",
    "        Apple.__init__(self)\n",
    "        self.name = \"macbook\"\n",
    "    \n",
    "    def details(self):\n",
    "        print(\"macbook details\")\n",
    "        return super().details()\n",
    "        \n",
    "macbook = Macbook()\n",
    "macbook.details()"
   ]
  },
  {
   "cell_type": "code",
   "execution_count": 2,
   "id": "91cd8e88",
   "metadata": {},
   "outputs": [
    {
     "name": "stdout",
     "output_type": "stream",
     "text": [
      "macbook details\n",
      "name: macbook\n",
      "year: 2018\n"
     ]
    }
   ],
   "source": [
    "class Apple:\n",
    "    \n",
    "    def __init__(self):\n",
    "        self.name = \"apple\"\n",
    "        \n",
    "    def details(self):\n",
    "        print(\"Apple details\")\n",
    "        \n",
    "class OperatingSystem:\n",
    "    \n",
    "    def __init__(self):\n",
    "        self.name = \"mac os\"\n",
    "        self.year = \"2018\"\n",
    "\n",
    "        \n",
    "class Macbook(OperatingSystem,Apple):\n",
    "    \n",
    "    def __init__(self):\n",
    "        super().__init__()\n",
    "        self.name = \"macbook\"\n",
    "    \n",
    "    def details(self):\n",
    "        print(\"macbook details\")\n",
    "        print(\"name:\",self.name)\n",
    "        print(\"year:\",self.year)\n",
    "        \n",
    "macbook = Macbook()\n",
    "macbook.details()"
   ]
  },
  {
   "cell_type": "code",
   "execution_count": 3,
   "id": "29a2e1bf",
   "metadata": {},
   "outputs": [
    {
     "name": "stdout",
     "output_type": "stream",
     "text": [
      "macbook details\n",
      "name: apple\n"
     ]
    },
    {
     "ename": "AttributeError",
     "evalue": "'Macbook' object has no attribute 'year'",
     "output_type": "error",
     "traceback": [
      "\u001b[0;31m---------------------------------------------------------------------------\u001b[0m",
      "\u001b[0;31mAttributeError\u001b[0m                            Traceback (most recent call last)",
      "\u001b[0;32m<ipython-input-3-5e3136e43639>\u001b[0m in \u001b[0;36m<module>\u001b[0;34m\u001b[0m\n\u001b[1;32m     25\u001b[0m \u001b[0;34m\u001b[0m\u001b[0m\n\u001b[1;32m     26\u001b[0m \u001b[0mmacbook\u001b[0m \u001b[0;34m=\u001b[0m \u001b[0mMacbook\u001b[0m\u001b[0;34m(\u001b[0m\u001b[0;34m)\u001b[0m\u001b[0;34m\u001b[0m\u001b[0;34m\u001b[0m\u001b[0m\n\u001b[0;32m---> 27\u001b[0;31m \u001b[0mmacbook\u001b[0m\u001b[0;34m.\u001b[0m\u001b[0mdetails\u001b[0m\u001b[0;34m(\u001b[0m\u001b[0;34m)\u001b[0m\u001b[0;34m\u001b[0m\u001b[0;34m\u001b[0m\u001b[0m\n\u001b[0m",
      "\u001b[0;32m<ipython-input-3-5e3136e43639>\u001b[0m in \u001b[0;36mdetails\u001b[0;34m(self)\u001b[0m\n\u001b[1;32m     22\u001b[0m         \u001b[0mprint\u001b[0m\u001b[0;34m(\u001b[0m\u001b[0;34m\"macbook details\"\u001b[0m\u001b[0;34m)\u001b[0m\u001b[0;34m\u001b[0m\u001b[0;34m\u001b[0m\u001b[0m\n\u001b[1;32m     23\u001b[0m         \u001b[0mprint\u001b[0m\u001b[0;34m(\u001b[0m\u001b[0;34m\"name:\"\u001b[0m\u001b[0;34m,\u001b[0m\u001b[0mself\u001b[0m\u001b[0;34m.\u001b[0m\u001b[0mname\u001b[0m\u001b[0;34m)\u001b[0m\u001b[0;34m\u001b[0m\u001b[0;34m\u001b[0m\u001b[0m\n\u001b[0;32m---> 24\u001b[0;31m         \u001b[0mprint\u001b[0m\u001b[0;34m(\u001b[0m\u001b[0;34m\"year:\"\u001b[0m\u001b[0;34m,\u001b[0m\u001b[0mself\u001b[0m\u001b[0;34m.\u001b[0m\u001b[0myear\u001b[0m\u001b[0;34m)\u001b[0m\u001b[0;34m\u001b[0m\u001b[0;34m\u001b[0m\u001b[0m\n\u001b[0m\u001b[1;32m     25\u001b[0m \u001b[0;34m\u001b[0m\u001b[0m\n\u001b[1;32m     26\u001b[0m \u001b[0mmacbook\u001b[0m \u001b[0;34m=\u001b[0m \u001b[0mMacbook\u001b[0m\u001b[0;34m(\u001b[0m\u001b[0;34m)\u001b[0m\u001b[0;34m\u001b[0m\u001b[0;34m\u001b[0m\u001b[0m\n",
      "\u001b[0;31mAttributeError\u001b[0m: 'Macbook' object has no attribute 'year'"
     ]
    }
   ],
   "source": [
    "class Apple:\n",
    "    \n",
    "    def __init__(self):\n",
    "        self.name = \"apple\"\n",
    "        \n",
    "    def details(self):\n",
    "        print(\"Apple details\")\n",
    "        \n",
    "class OperatingSystem:\n",
    "    \n",
    "    def __init__(self):\n",
    "        self.name = \"mac os\"\n",
    "        self.year = \"2018\"\n",
    "\n",
    "        \n",
    "class Macbook(Apple,OperatingSystem):\n",
    "    \n",
    "    def __init__(self):\n",
    "        super().__init__()\n",
    "    \n",
    "    def details(self):\n",
    "        print(\"macbook details\")\n",
    "        print(\"name:\",self.name)\n",
    "        print(\"year:\",self.year)\n",
    "        \n",
    "macbook = Macbook()\n",
    "macbook.details()"
   ]
  },
  {
   "cell_type": "code",
   "execution_count": 4,
   "id": "55feb741",
   "metadata": {},
   "outputs": [
    {
     "name": "stdout",
     "output_type": "stream",
     "text": [
      "macbook details\n",
      "name: apple\n",
      "year: 2018\n"
     ]
    }
   ],
   "source": [
    "class Apple:\n",
    "    \n",
    "    def __init__(self):\n",
    "        self.name = \"apple\"\n",
    "        \n",
    "    def details(self):\n",
    "        print(\"Apple details\")\n",
    "        \n",
    "class OperatingSystem:\n",
    "    \n",
    "    #def __init__(self):\n",
    "    name = \"mac os\"\n",
    "    year = \"2018\"\n",
    "\n",
    "        \n",
    "class Macbook(Apple,OperatingSystem):\n",
    "    \n",
    "    def __init__(self):\n",
    "        super().__init__()\n",
    "\n",
    "    \n",
    "    def details(self):\n",
    "        print(\"macbook details\")\n",
    "        print(\"name:\",self.name)\n",
    "        print(\"year:\",self.year)\n",
    "        \n",
    "macbook = Macbook()\n",
    "macbook.details()"
   ]
  },
  {
   "cell_type": "code",
   "execution_count": null,
   "id": "fdc48d97",
   "metadata": {},
   "outputs": [],
   "source": []
  },
  {
   "cell_type": "code",
   "execution_count": null,
   "id": "2c9d3d45",
   "metadata": {},
   "outputs": [],
   "source": []
  }
 ],
 "metadata": {
  "kernelspec": {
   "display_name": "Python 3",
   "language": "python",
   "name": "python3"
  },
  "language_info": {
   "codemirror_mode": {
    "name": "ipython",
    "version": 3
   },
   "file_extension": ".py",
   "mimetype": "text/x-python",
   "name": "python",
   "nbconvert_exporter": "python",
   "pygments_lexer": "ipython3",
   "version": "3.8.8"
  }
 },
 "nbformat": 4,
 "nbformat_minor": 5
}
