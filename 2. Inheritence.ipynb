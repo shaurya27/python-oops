{
 "cells": [
  {
   "cell_type": "markdown",
   "id": "cc69c162",
   "metadata": {},
   "source": [
    "## Single inheritence"
   ]
  },
  {
   "cell_type": "code",
   "execution_count": 1,
   "id": "27aefd62",
   "metadata": {},
   "outputs": [
    {
     "name": "stdout",
     "output_type": "stream",
     "text": [
      "Macbook is manufactured by Apple inc. in year 2017\n"
     ]
    },
    {
     "data": {
      "text/plain": [
       "2017"
      ]
     },
     "execution_count": 1,
     "metadata": {},
     "output_type": "execute_result"
    }
   ],
   "source": [
    "class Apple:\n",
    "    \n",
    "    def __init__(self):\n",
    "        self.manufacturer = \"Apple inc.\"\n",
    "        \n",
    "class Macbook(Apple):\n",
    "\n",
    "    year_of_manufacturing = 2017\n",
    "    \n",
    "    def details(self):\n",
    "        print(f\"Macbook is manufactured by {self.manufacturer} in year {self.year_of_manufacturing}\")\n",
    "        \n",
    "macbook = Macbook()\n",
    "macbook.details()\n",
    "macbook.year_of_manufacturing"
   ]
  },
  {
   "cell_type": "code",
   "execution_count": 2,
   "id": "063f96ee",
   "metadata": {},
   "outputs": [
    {
     "name": "stdout",
     "output_type": "stream",
     "text": [
      "Macbook is manufactured by Apple inc. in year 2017\n"
     ]
    },
    {
     "data": {
      "text/plain": [
       "2017"
      ]
     },
     "execution_count": 2,
     "metadata": {},
     "output_type": "execute_result"
    }
   ],
   "source": [
    "class Apple:\n",
    "    \n",
    "    #def __init__(self):\n",
    "    manufacturer = \"Apple inc.\"\n",
    "    year_of_manufacturing = 2015\n",
    "        \n",
    "class Macbook(Apple):\n",
    "\n",
    "    year_of_manufacturing = 2017\n",
    "    \n",
    "    def details(self):\n",
    "        print(f\"Macbook is manufactured by {self.manufacturer} in year {self.year_of_manufacturing}\")\n",
    "        \n",
    "macbook = Macbook()\n",
    "macbook.details()\n",
    "macbook.year_of_manufacturing"
   ]
  },
  {
   "cell_type": "code",
   "execution_count": 3,
   "id": "8bc1cef5",
   "metadata": {},
   "outputs": [
    {
     "name": "stdout",
     "output_type": "stream",
     "text": [
      "Macbook is manufactured by Apple inc. in year 2015\n"
     ]
    },
    {
     "data": {
      "text/plain": [
       "2015"
      ]
     },
     "execution_count": 3,
     "metadata": {},
     "output_type": "execute_result"
    }
   ],
   "source": [
    "class Apple:\n",
    "    \n",
    "    def __init__(self):\n",
    "        self.manufacturer = \"Apple inc.\"\n",
    "        self.year_of_manufacturing = 2015\n",
    "        \n",
    "class Macbook(Apple):\n",
    "\n",
    "    year_of_manufacturing = 2017\n",
    "    \n",
    "    def details(self):\n",
    "        print(f\"Macbook is manufactured by {self.manufacturer} in year {self.year_of_manufacturing}\")\n",
    "        \n",
    "macbook = Macbook()\n",
    "macbook.details()\n",
    "macbook.year_of_manufacturing"
   ]
  },
  {
   "cell_type": "code",
   "execution_count": 4,
   "id": "f9f5274e",
   "metadata": {},
   "outputs": [
    {
     "name": "stdout",
     "output_type": "stream",
     "text": [
      "Macbook is manufactured by Apple inc. in year 2017\n"
     ]
    },
    {
     "data": {
      "text/plain": [
       "2017"
      ]
     },
     "execution_count": 4,
     "metadata": {},
     "output_type": "execute_result"
    }
   ],
   "source": [
    "class Apple:\n",
    "    \n",
    "    manufacturer = \"Apple inc.\"\n",
    "    year_of_manufacturing = 2015\n",
    "        \n",
    "class Macbook(Apple):\n",
    "    \n",
    "    def __init__(self):\n",
    "        self.year_of_manufacturing = 2017\n",
    "    \n",
    "    def details(self):\n",
    "        print(f\"Macbook is manufactured by {self.manufacturer} in year {self.year_of_manufacturing}\")\n",
    "        \n",
    "macbook = Macbook()\n",
    "macbook.details()\n",
    "macbook.year_of_manufacturing"
   ]
  },
  {
   "cell_type": "code",
   "execution_count": 5,
   "id": "8efcf9c4",
   "metadata": {},
   "outputs": [
    {
     "ename": "AttributeError",
     "evalue": "'Macbook' object has no attribute 'manufacturer'",
     "output_type": "error",
     "traceback": [
      "\u001b[0;31m---------------------------------------------------------------------------\u001b[0m",
      "\u001b[0;31mAttributeError\u001b[0m                            Traceback (most recent call last)",
      "\u001b[0;32m<ipython-input-5-2a22e34f6b52>\u001b[0m in \u001b[0;36m<module>\u001b[0;34m\u001b[0m\n\u001b[1;32m     13\u001b[0m \u001b[0;34m\u001b[0m\u001b[0m\n\u001b[1;32m     14\u001b[0m \u001b[0mmacbook\u001b[0m \u001b[0;34m=\u001b[0m \u001b[0mMacbook\u001b[0m\u001b[0;34m(\u001b[0m\u001b[0;34m)\u001b[0m\u001b[0;34m\u001b[0m\u001b[0;34m\u001b[0m\u001b[0m\n\u001b[0;32m---> 15\u001b[0;31m \u001b[0mmacbook\u001b[0m\u001b[0;34m.\u001b[0m\u001b[0mdetails\u001b[0m\u001b[0;34m(\u001b[0m\u001b[0;34m)\u001b[0m\u001b[0;34m\u001b[0m\u001b[0;34m\u001b[0m\u001b[0m\n\u001b[0m",
      "\u001b[0;32m<ipython-input-5-2a22e34f6b52>\u001b[0m in \u001b[0;36mdetails\u001b[0;34m(self)\u001b[0m\n\u001b[1;32m     10\u001b[0m \u001b[0;34m\u001b[0m\u001b[0m\n\u001b[1;32m     11\u001b[0m     \u001b[0;32mdef\u001b[0m \u001b[0mdetails\u001b[0m\u001b[0;34m(\u001b[0m\u001b[0mself\u001b[0m\u001b[0;34m)\u001b[0m\u001b[0;34m:\u001b[0m\u001b[0;34m\u001b[0m\u001b[0;34m\u001b[0m\u001b[0m\n\u001b[0;32m---> 12\u001b[0;31m         \u001b[0mprint\u001b[0m\u001b[0;34m(\u001b[0m\u001b[0;34mf\"Macbook is manufactured by {self.manufacturer} in year {self.year_of_manufacturing}\"\u001b[0m\u001b[0;34m)\u001b[0m\u001b[0;34m\u001b[0m\u001b[0;34m\u001b[0m\u001b[0m\n\u001b[0m\u001b[1;32m     13\u001b[0m \u001b[0;34m\u001b[0m\u001b[0m\n\u001b[1;32m     14\u001b[0m \u001b[0mmacbook\u001b[0m \u001b[0;34m=\u001b[0m \u001b[0mMacbook\u001b[0m\u001b[0;34m(\u001b[0m\u001b[0;34m)\u001b[0m\u001b[0;34m\u001b[0m\u001b[0;34m\u001b[0m\u001b[0m\n",
      "\u001b[0;31mAttributeError\u001b[0m: 'Macbook' object has no attribute 'manufacturer'"
     ]
    }
   ],
   "source": [
    "class Apple:\n",
    "    \n",
    "    def __init__(self):\n",
    "        self.manufacturer = \"Apple inc.\"\n",
    "        \n",
    "class Macbook(Apple):\n",
    "    \n",
    "    def __init__(self):\n",
    "        self.year_of_manufacturing = 2017\n",
    "        \n",
    "    def details(self):\n",
    "        print(f\"Macbook is manufactured by {self.manufacturer} in year {self.year_of_manufacturing}\")\n",
    "\n",
    "macbook = Macbook()\n",
    "macbook.details()"
   ]
  },
  {
   "cell_type": "markdown",
   "id": "6c0319e0",
   "metadata": {},
   "source": [
    "**Above error:** Because I override the ```__init__``` method, so I need to call the parent method if I want the parent behavior to happen."
   ]
  },
  {
   "cell_type": "code",
   "execution_count": 6,
   "id": "ea5bfcef",
   "metadata": {},
   "outputs": [
    {
     "name": "stdout",
     "output_type": "stream",
     "text": [
      "Macbook is manufactured by Apple inc. in year 2017\n"
     ]
    }
   ],
   "source": [
    "class Apple:\n",
    "    \n",
    "    def __init__(self):\n",
    "        self.manufacturer = \"Apple inc.\"\n",
    "        \n",
    "class Macbook(Apple):\n",
    "    \n",
    "    def __init__(self):\n",
    "        Apple.__init__(self)\n",
    "        self.year_of_manufacturing = 2017\n",
    "    def details(self):\n",
    "        print(f\"Macbook is manufactured by {self.manufacturer} in year {self.year_of_manufacturing}\")\n",
    "        \n",
    "macbook = Macbook()\n",
    "macbook.details()"
   ]
  },
  {
   "cell_type": "markdown",
   "id": "c79dc87f",
   "metadata": {},
   "source": [
    "------"
   ]
  },
  {
   "cell_type": "markdown",
   "id": "ad2d53de",
   "metadata": {},
   "source": [
    "### See Below two examples"
   ]
  },
  {
   "cell_type": "code",
   "execution_count": 7,
   "id": "c39bc8b4",
   "metadata": {},
   "outputs": [
    {
     "name": "stdout",
     "output_type": "stream",
     "text": [
      "Macbook is manufactured by Apple macbook inc. in year 2017\n",
      "Mail: www.apple.com\n"
     ]
    },
    {
     "data": {
      "text/plain": [
       "'Apple macbook inc.'"
      ]
     },
     "execution_count": 7,
     "metadata": {},
     "output_type": "execute_result"
    }
   ],
   "source": [
    "class Apple:\n",
    "    \n",
    "    def __init__(self):\n",
    "        self.manufacturer = \"Apple inc.\"\n",
    "        self.website = \"www.apple.com\"\n",
    "        \n",
    "class Macbook(Apple):\n",
    "    \n",
    "    def __init__(self):\n",
    "        Apple.__init__(self)\n",
    "        self.manufacturer = \"Apple macbook inc.\"\n",
    "        self.year_of_manufacturing = 2017\n",
    "        \n",
    "    def details(self):\n",
    "        print(f\"Macbook is manufactured by {self.manufacturer} in year {self.year_of_manufacturing}\")\n",
    "        print(\"Mail:\",self.website)\n",
    "        \n",
    "macbook = Macbook()\n",
    "macbook.details()\n",
    "macbook.manufacturer"
   ]
  },
  {
   "cell_type": "code",
   "execution_count": 8,
   "id": "60722646",
   "metadata": {},
   "outputs": [
    {
     "name": "stdout",
     "output_type": "stream",
     "text": [
      "Macbook is manufactured by Apple inc. in year 2017\n",
      "Mail: www.apple.com\n"
     ]
    },
    {
     "data": {
      "text/plain": [
       "'Apple inc.'"
      ]
     },
     "execution_count": 8,
     "metadata": {},
     "output_type": "execute_result"
    }
   ],
   "source": [
    "class Apple:\n",
    "    \n",
    "    def __init__(self):\n",
    "        self.manufacturer = \"Apple inc.\"\n",
    "        self.website = \"www.apple.com\"\n",
    "        \n",
    "class Macbook(Apple):\n",
    "    \n",
    "    def __init__(self):\n",
    "        self.year_of_manufacturing = 2017\n",
    "        self.manufacturer = \"Apple macbook inc.\"\n",
    "        Apple.__init__(self)\n",
    "        \n",
    "    def details(self):\n",
    "        print(f\"Macbook is manufactured by {self.manufacturer} in year {self.year_of_manufacturing}\")\n",
    "        print(\"Mail:\",self.website)\n",
    "        \n",
    "macbook = Macbook()\n",
    "macbook.details()\n",
    "macbook.manufacturer"
   ]
  },
  {
   "cell_type": "markdown",
   "id": "c9eb09ae",
   "metadata": {},
   "source": [
    "-------"
   ]
  },
  {
   "cell_type": "markdown",
   "id": "96b3b4a5",
   "metadata": {},
   "source": [
    "## Multiple Inheritencem"
   ]
  },
  {
   "cell_type": "code",
   "execution_count": 9,
   "id": "064c9bd4",
   "metadata": {},
   "outputs": [
    {
     "name": "stdout",
     "output_type": "stream",
     "text": [
      "Name: macbook\n"
     ]
    }
   ],
   "source": [
    "class OperatingSystem:\n",
    "    \n",
    "    name = \"Mac OS\"\n",
    "    \n",
    "class Apple:\n",
    "    \n",
    "    name = \"Apple\"\n",
    "    \n",
    "class Macbook(Apple, OperatingSystem):\n",
    "    \n",
    "    name = \"macbook\"\n",
    "    \n",
    "    def details(self):\n",
    "        print(\"Name:\",self.name)\n",
    "        \n",
    "macbook = Macbook()\n",
    "macbook.details()"
   ]
  },
  {
   "cell_type": "code",
   "execution_count": 10,
   "id": "27fe57f2",
   "metadata": {},
   "outputs": [
    {
     "name": "stdout",
     "output_type": "stream",
     "text": [
      "Name: Apple\n"
     ]
    }
   ],
   "source": [
    "class OperatingSystem:\n",
    "    \n",
    "    name = \"Mac OS\"\n",
    "    \n",
    "class Apple:\n",
    "    \n",
    "    name = \"Apple\"\n",
    "    \n",
    "class Macbook(Apple, OperatingSystem):\n",
    "    \n",
    "    \n",
    "    def details(self):\n",
    "        print(\"Name:\",self.name)\n",
    "        \n",
    "macbook = Macbook()\n",
    "macbook.details()"
   ]
  },
  {
   "cell_type": "code",
   "execution_count": 11,
   "id": "f652f8b8",
   "metadata": {},
   "outputs": [
    {
     "name": "stdout",
     "output_type": "stream",
     "text": [
      "Name: Mac OS\n"
     ]
    }
   ],
   "source": [
    "class OperatingSystem:\n",
    "    \n",
    "    name = \"Mac OS\"\n",
    "    \n",
    "class Apple:\n",
    "    \n",
    "    name = \"Apple\"\n",
    "    \n",
    "class Macbook(OperatingSystem,Apple):\n",
    "    \n",
    "    def details(self):\n",
    "        print(\"Name:\",self.name)\n",
    "        \n",
    "macbook = Macbook()\n",
    "macbook.details()"
   ]
  },
  {
   "cell_type": "code",
   "execution_count": 12,
   "id": "5e87c8f2",
   "metadata": {},
   "outputs": [
    {
     "name": "stdout",
     "output_type": "stream",
     "text": [
      "Name: Apple\n"
     ]
    }
   ],
   "source": [
    "class OperatingSystem:\n",
    "    \n",
    "    name = \"Mac OS\"\n",
    "    \n",
    "class Apple:\n",
    "    def __init__(self):\n",
    "        self.name = \"Apple\"\n",
    "    \n",
    "class Macbook(OperatingSystem,Apple):\n",
    "    name = \"macbook\"\n",
    "    \n",
    "    def details(self):\n",
    "        print(\"Name:\",self.name)\n",
    "        \n",
    "macbook = Macbook()\n",
    "macbook.details()"
   ]
  },
  {
   "cell_type": "code",
   "execution_count": 13,
   "id": "b4ed27e5",
   "metadata": {},
   "outputs": [
    {
     "name": "stdout",
     "output_type": "stream",
     "text": [
      "Name: Mac OS\n"
     ]
    }
   ],
   "source": [
    "class OperatingSystem:\n",
    "    def __init__(self):\n",
    "        self.name = \"Mac OS\"\n",
    "    \n",
    "class Apple:\n",
    "    def __init__(self):\n",
    "        self.name = \"Apple\"\n",
    "    \n",
    "class Macbook(OperatingSystem,Apple):\n",
    "    name = \"macbook\"\n",
    "    \n",
    "    def details(self):\n",
    "        print(\"Name:\",self.name)\n",
    "        \n",
    "macbook = Macbook()\n",
    "macbook.details()"
   ]
  },
  {
   "cell_type": "code",
   "execution_count": 14,
   "id": "1e516e73",
   "metadata": {},
   "outputs": [
    {
     "name": "stdout",
     "output_type": "stream",
     "text": [
      "Name: macbook\n"
     ]
    }
   ],
   "source": [
    "class OperatingSystem:\n",
    "    def __init__(self):\n",
    "        self.name = \"Mac OS\"\n",
    "    \n",
    "class Apple:\n",
    "    def __init__(self):\n",
    "        self.name = \"Apple\"\n",
    "    \n",
    "class Macbook(OperatingSystem,Apple):\n",
    "    \n",
    "    def __init__(self):\n",
    "        self.name = \"macbook\"\n",
    "    \n",
    "    def details(self):\n",
    "        print(\"Name:\",self.name)\n",
    "        \n",
    "macbook = Macbook()\n",
    "macbook.details()"
   ]
  },
  {
   "cell_type": "markdown",
   "id": "d171e87c",
   "metadata": {},
   "source": [
    "------"
   ]
  },
  {
   "cell_type": "code",
   "execution_count": 15,
   "id": "c3420091",
   "metadata": {},
   "outputs": [
    {
     "name": "stdout",
     "output_type": "stream",
     "text": [
      "Name: macbook\n"
     ]
    },
    {
     "ename": "AttributeError",
     "evalue": "'Macbook' object has no attribute 'year'",
     "output_type": "error",
     "traceback": [
      "\u001b[0;31m---------------------------------------------------------------------------\u001b[0m",
      "\u001b[0;31mAttributeError\u001b[0m                            Traceback (most recent call last)",
      "\u001b[0;32m<ipython-input-15-e48ebda87fa5>\u001b[0m in \u001b[0;36m<module>\u001b[0;34m\u001b[0m\n\u001b[1;32m     18\u001b[0m \u001b[0;34m\u001b[0m\u001b[0m\n\u001b[1;32m     19\u001b[0m \u001b[0mmacbook\u001b[0m \u001b[0;34m=\u001b[0m \u001b[0mMacbook\u001b[0m\u001b[0;34m(\u001b[0m\u001b[0;34m)\u001b[0m\u001b[0;34m\u001b[0m\u001b[0;34m\u001b[0m\u001b[0m\n\u001b[0;32m---> 20\u001b[0;31m \u001b[0mmacbook\u001b[0m\u001b[0;34m.\u001b[0m\u001b[0mdetails\u001b[0m\u001b[0;34m(\u001b[0m\u001b[0;34m)\u001b[0m\u001b[0;34m\u001b[0m\u001b[0;34m\u001b[0m\u001b[0m\n\u001b[0m",
      "\u001b[0;32m<ipython-input-15-e48ebda87fa5>\u001b[0m in \u001b[0;36mdetails\u001b[0;34m(self)\u001b[0m\n\u001b[1;32m     15\u001b[0m     \u001b[0;32mdef\u001b[0m \u001b[0mdetails\u001b[0m\u001b[0;34m(\u001b[0m\u001b[0mself\u001b[0m\u001b[0;34m)\u001b[0m\u001b[0;34m:\u001b[0m\u001b[0;34m\u001b[0m\u001b[0;34m\u001b[0m\u001b[0m\n\u001b[1;32m     16\u001b[0m         \u001b[0mprint\u001b[0m\u001b[0;34m(\u001b[0m\u001b[0;34m\"Name:\"\u001b[0m\u001b[0;34m,\u001b[0m\u001b[0mself\u001b[0m\u001b[0;34m.\u001b[0m\u001b[0mname\u001b[0m\u001b[0;34m)\u001b[0m\u001b[0;34m\u001b[0m\u001b[0;34m\u001b[0m\u001b[0m\n\u001b[0;32m---> 17\u001b[0;31m         \u001b[0mprint\u001b[0m\u001b[0;34m(\u001b[0m\u001b[0;34m\"year:\"\u001b[0m\u001b[0;34m,\u001b[0m\u001b[0mself\u001b[0m\u001b[0;34m.\u001b[0m\u001b[0myear\u001b[0m\u001b[0;34m)\u001b[0m\u001b[0;34m\u001b[0m\u001b[0;34m\u001b[0m\u001b[0m\n\u001b[0m\u001b[1;32m     18\u001b[0m \u001b[0;34m\u001b[0m\u001b[0m\n\u001b[1;32m     19\u001b[0m \u001b[0mmacbook\u001b[0m \u001b[0;34m=\u001b[0m \u001b[0mMacbook\u001b[0m\u001b[0;34m(\u001b[0m\u001b[0;34m)\u001b[0m\u001b[0;34m\u001b[0m\u001b[0;34m\u001b[0m\u001b[0m\n",
      "\u001b[0;31mAttributeError\u001b[0m: 'Macbook' object has no attribute 'year'"
     ]
    }
   ],
   "source": [
    "class OperatingSystem:\n",
    "    def __init__(self):\n",
    "        self.name = \"Mac OS\"\n",
    "    \n",
    "class Apple:\n",
    "    def __init__(self):\n",
    "        self.name = \"Apple\"\n",
    "        self.year = 2017\n",
    "    \n",
    "class Macbook(OperatingSystem,Apple):\n",
    "    \n",
    "    def __init__(self):\n",
    "        self.name = \"macbook\"\n",
    "    \n",
    "    def details(self):\n",
    "        print(\"Name:\",self.name)\n",
    "        print(\"year:\",self.year)\n",
    "        \n",
    "macbook = Macbook()\n",
    "macbook.details()"
   ]
  },
  {
   "cell_type": "code",
   "execution_count": 16,
   "id": "4e5b4953",
   "metadata": {},
   "outputs": [
    {
     "name": "stdout",
     "output_type": "stream",
     "text": [
      "Name: macbook\n",
      "year: 2017\n"
     ]
    }
   ],
   "source": [
    "class OperatingSystem:\n",
    "    def __init__(self):\n",
    "        self.name = \"Mac OS\"\n",
    "    \n",
    "class Apple:\n",
    "    def __init__(self):\n",
    "        self.name = \"Apple\"\n",
    "        self.year = 2017\n",
    "    \n",
    "class Macbook(OperatingSystem,Apple):\n",
    "    \n",
    "    def __init__(self):\n",
    "        Apple.__init__(self)\n",
    "        OperatingSystem.__init__(self)\n",
    "        self.name = \"macbook\"\n",
    "    \n",
    "    def details(self):\n",
    "        print(\"Name:\",self.name)\n",
    "        print(\"year:\",self.year)\n",
    "        \n",
    "macbook = Macbook()\n",
    "macbook.details()"
   ]
  },
  {
   "cell_type": "code",
   "execution_count": 17,
   "id": "b11fa7e9",
   "metadata": {},
   "outputs": [
    {
     "name": "stdout",
     "output_type": "stream",
     "text": [
      "Name: Mac OS\n",
      "year: 2017\n"
     ]
    }
   ],
   "source": [
    "class OperatingSystem:\n",
    "    def __init__(self):\n",
    "        self.name = \"Mac OS\"\n",
    "    \n",
    "class Apple:\n",
    "    def __init__(self):\n",
    "        self.name = \"Apple\"\n",
    "        self.year = 2017\n",
    "    \n",
    "class Macbook(OperatingSystem,Apple):\n",
    "    \n",
    "    def __init__(self):\n",
    "        Apple.__init__(self)\n",
    "        self.name = \"macbook\"\n",
    "        OperatingSystem.__init__(self)\n",
    "        \n",
    "    \n",
    "    def details(self):\n",
    "        print(\"Name:\",self.name)\n",
    "        print(\"year:\",self.year)\n",
    "        \n",
    "macbook = Macbook()\n",
    "macbook.details()"
   ]
  },
  {
   "cell_type": "code",
   "execution_count": 18,
   "id": "8eaa9574",
   "metadata": {},
   "outputs": [
    {
     "name": "stdout",
     "output_type": "stream",
     "text": [
      "Name: Mac OS\n",
      "year: 2017\n"
     ]
    }
   ],
   "source": [
    "class OperatingSystem:\n",
    "    def __init__(self):\n",
    "        self.name = \"Mac OS\"\n",
    "    \n",
    "class Apple:\n",
    "    def __init__(self):\n",
    "        self.name = \"Apple\"\n",
    "        self.year = 2017\n",
    "    \n",
    "class Macbook(Apple,OperatingSystem):\n",
    "    \n",
    "    def __init__(self):\n",
    "        Apple.__init__(self)\n",
    "        self.name = \"macbook\"\n",
    "        OperatingSystem.__init__(self)\n",
    "        \n",
    "    \n",
    "    def details(self):\n",
    "        print(\"Name:\",self.name)\n",
    "        print(\"year:\",self.year)\n",
    "        \n",
    "macbook = Macbook()\n",
    "macbook.details()"
   ]
  },
  {
   "cell_type": "code",
   "execution_count": 19,
   "id": "8f1da722",
   "metadata": {},
   "outputs": [
    {
     "name": "stdout",
     "output_type": "stream",
     "text": [
      "Name: Mac OS\n",
      "year: 2018\n"
     ]
    }
   ],
   "source": [
    "class OperatingSystem:\n",
    "    def __init__(self):\n",
    "        self.name = \"Mac OS\"\n",
    "        self.year = 2018\n",
    "    \n",
    "class Apple:\n",
    "    def __init__(self):\n",
    "        self.name = \"Apple\"\n",
    "        self.year = 2017\n",
    "    \n",
    "class Macbook(Apple,OperatingSystem):\n",
    "    \n",
    "    def __init__(self):\n",
    "        self.name = \"macbook\"\n",
    "        Apple.__init__(self)\n",
    "        OperatingSystem.__init__(self)\n",
    "        \n",
    "    \n",
    "    def details(self):\n",
    "        print(\"Name:\",self.name)\n",
    "        print(\"year:\",self.year)\n",
    "        \n",
    "macbook = Macbook()\n",
    "macbook.details()"
   ]
  },
  {
   "cell_type": "markdown",
   "id": "e7e15ab3",
   "metadata": {},
   "source": [
    "-----"
   ]
  },
  {
   "cell_type": "markdown",
   "id": "34379a60",
   "metadata": {},
   "source": [
    "## Multilevel inheritence"
   ]
  },
  {
   "cell_type": "code",
   "execution_count": 20,
   "id": "673a4714",
   "metadata": {},
   "outputs": [
    {
     "name": "stdout",
     "output_type": "stream",
     "text": [
      "Name: m1 chip\n"
     ]
    }
   ],
   "source": [
    "class Apple:\n",
    "    name = \"Apple\"\n",
    "    \n",
    "class Macbook(Apple):\n",
    "    name = \"macbook\"\n",
    "    \n",
    "class M1chip(Macbook):\n",
    "    name = \"m1 chip\"\n",
    "    \n",
    "    def details(self):\n",
    "        print(\"Name:\", self.name)\n",
    "        \n",
    "m1 = M1chip()\n",
    "m1.details()"
   ]
  },
  {
   "cell_type": "code",
   "execution_count": 21,
   "id": "0e252a2c",
   "metadata": {},
   "outputs": [
    {
     "name": "stdout",
     "output_type": "stream",
     "text": [
      "Name: macbook\n"
     ]
    }
   ],
   "source": [
    "class Apple:\n",
    "    name = \"Apple\"\n",
    "    \n",
    "class Macbook(Apple):\n",
    "    name = \"macbook\"\n",
    "    \n",
    "class M1chip(Macbook):\n",
    "    \n",
    "    def details(self):\n",
    "        print(\"Name:\", self.name)\n",
    "        \n",
    "m1 = M1chip()\n",
    "m1.details()"
   ]
  },
  {
   "cell_type": "code",
   "execution_count": 22,
   "id": "fbe38edf",
   "metadata": {},
   "outputs": [
    {
     "name": "stdout",
     "output_type": "stream",
     "text": [
      "Name: Apple\n"
     ]
    }
   ],
   "source": [
    "class Apple:\n",
    "    name = \"Apple\"\n",
    "    \n",
    "class Macbook(Apple):\n",
    "    pass\n",
    "    \n",
    "class M1chip(Macbook):\n",
    "    \n",
    "    def details(self):\n",
    "        print(\"Name:\", self.name)\n",
    "        \n",
    "m1 = M1chip()\n",
    "m1.details()"
   ]
  },
  {
   "cell_type": "code",
   "execution_count": 23,
   "id": "d9de74fc",
   "metadata": {},
   "outputs": [
    {
     "name": "stdout",
     "output_type": "stream",
     "text": [
      "Name: macbook\n"
     ]
    }
   ],
   "source": [
    "class Apple:\n",
    "    name = \"Apple\"\n",
    "    \n",
    "class Macbook(Apple):\n",
    "    def __init__(self):\n",
    "        self.name = \"macbook\"\n",
    "    \n",
    "class M1chip(Macbook):\n",
    "    name = \"m1 chip\"\n",
    "    \n",
    "    def details(self):\n",
    "        print(\"Name:\", self.name)\n",
    "        \n",
    "m1 = M1chip()\n",
    "m1.details()"
   ]
  },
  {
   "cell_type": "code",
   "execution_count": 24,
   "id": "6485eef5",
   "metadata": {},
   "outputs": [
    {
     "name": "stdout",
     "output_type": "stream",
     "text": [
      "Name: Apple\n",
      "year: 2018\n"
     ]
    }
   ],
   "source": [
    "class Apple:\n",
    "    def __init__(self):\n",
    "        self.name = \"Apple\"\n",
    "    \n",
    "class Macbook(Apple):\n",
    "    name = \"macbook\"\n",
    "    year = 2018\n",
    "    \n",
    "class M1chip(Macbook):\n",
    "    name = \"m1 chip\"\n",
    "    \n",
    "    def details(self):\n",
    "        print(\"Name:\", self.name)\n",
    "        print(\"year:\",self.year)\n",
    "        \n",
    "m1 = M1chip()\n",
    "m1.details()"
   ]
  },
  {
   "cell_type": "code",
   "execution_count": 25,
   "id": "12483e83",
   "metadata": {},
   "outputs": [
    {
     "name": "stdout",
     "output_type": "stream",
     "text": [
      "Name: m1 chip\n",
      "year: 2018\n"
     ]
    }
   ],
   "source": [
    "class Apple:\n",
    "    def __init__(self):\n",
    "        self.name = \"Apple\"\n",
    "    \n",
    "class Macbook(Apple):\n",
    "    name = \"macbook\"\n",
    "    year = 2018\n",
    "    \n",
    "class M1chip(Macbook):\n",
    "    def __init__(self):\n",
    "        self.name = \"m1 chip\"\n",
    "    \n",
    "    def details(self):\n",
    "        print(\"Name:\", self.name)\n",
    "        print(\"year:\",self.year)\n",
    "        \n",
    "m1 = M1chip()\n",
    "m1.details()"
   ]
  },
  {
   "cell_type": "markdown",
   "id": "e01664c8",
   "metadata": {},
   "source": [
    "--------"
   ]
  },
  {
   "cell_type": "code",
   "execution_count": 26,
   "id": "1ec20026",
   "metadata": {},
   "outputs": [
    {
     "name": "stdout",
     "output_type": "stream",
     "text": [
      "Name: m1 chip\n",
      "year: 2018\n"
     ]
    }
   ],
   "source": [
    "class Apple:\n",
    "    def __init__(self):\n",
    "        self.name = \"Apple\"\n",
    "        self.year = 2018\n",
    "    \n",
    "class Macbook(Apple):\n",
    "    name = \"macbook\"\n",
    "    \n",
    "    \n",
    "class M1chip(Macbook):\n",
    "    def __init__(self):\n",
    "        Apple.__init__(self)\n",
    "        self.name = \"m1 chip\"\n",
    "    \n",
    "    def details(self):\n",
    "        print(\"Name:\", self.name)\n",
    "        print(\"year:\",self.year)\n",
    "        \n",
    "m1 = M1chip()\n",
    "m1.details()"
   ]
  },
  {
   "cell_type": "code",
   "execution_count": 27,
   "id": "60bb7785",
   "metadata": {},
   "outputs": [
    {
     "name": "stdout",
     "output_type": "stream",
     "text": [
      "Name: Apple\n",
      "year: 2018\n"
     ]
    }
   ],
   "source": [
    "class Apple:\n",
    "    def __init__(self):\n",
    "        self.name = \"Apple\"\n",
    "        self.year = 2018\n",
    "    \n",
    "class Macbook(Apple):\n",
    "    def __init__(self):\n",
    "        self.name = \"macbook\"\n",
    "    \n",
    "    \n",
    "class M1chip(Macbook):\n",
    "    def __init__(self):\n",
    "        Macbook.__init__(self)\n",
    "        Apple.__init__(self)\n",
    "    \n",
    "    def details(self):\n",
    "        print(\"Name:\", self.name)\n",
    "        print(\"year:\",self.year)\n",
    "        \n",
    "m1 = M1chip()\n",
    "m1.details()"
   ]
  },
  {
   "cell_type": "code",
   "execution_count": 28,
   "id": "b96d2265",
   "metadata": {},
   "outputs": [
    {
     "name": "stdout",
     "output_type": "stream",
     "text": [
      "Name: macbook\n",
      "year: 2018\n"
     ]
    }
   ],
   "source": [
    "class Apple:\n",
    "    def __init__(self):\n",
    "        self.name = \"Apple\"\n",
    "        self.year = 2018\n",
    "    \n",
    "class Macbook(Apple):\n",
    "    def __init__(self):\n",
    "        self.name = \"macbook\"\n",
    "    \n",
    "    \n",
    "class M1chip(Macbook):\n",
    "    def __init__(self):\n",
    "        Apple.__init__(self)\n",
    "        Macbook.__init__(self)\n",
    "    \n",
    "    def details(self):\n",
    "        print(\"Name:\", self.name)\n",
    "        print(\"year:\",self.year)\n",
    "        \n",
    "m1 = M1chip()\n",
    "m1.details()"
   ]
  },
  {
   "cell_type": "markdown",
   "id": "0fe5003d",
   "metadata": {},
   "source": [
    "------"
   ]
  },
  {
   "cell_type": "markdown",
   "id": "619e2ae3",
   "metadata": {},
   "source": [
    "**Points to remember:**\n",
    "* Priority : Inheritence attribute > class attribute\n",
    "* Prioirty : Child class > Parent class(base class)\n",
    "* Prioirty : order of Parent class matters (first one is the highest priority)\n",
    "* Classwise priorites fails when ```init()``` overwrite"
   ]
  },
  {
   "cell_type": "markdown",
   "id": "a7734b0b",
   "metadata": {},
   "source": [
    "-----"
   ]
  },
  {
   "cell_type": "markdown",
   "id": "c5794353",
   "metadata": {},
   "source": [
    "## Diamond shape problem for multiple inheritence"
   ]
  },
  {
   "cell_type": "code",
   "execution_count": 29,
   "id": "98bdc512",
   "metadata": {},
   "outputs": [
    {
     "name": "stdout",
     "output_type": "stream",
     "text": [
      "This is class D\n"
     ]
    }
   ],
   "source": [
    "class A:\n",
    "    def method(self):\n",
    "        print(\"This is class A\")\n",
    "        pass\n",
    "    \n",
    "class B(A):\n",
    "    def method(self):\n",
    "        print(\"This is class B\")\n",
    "        pass\n",
    "    \n",
    "class C(A):\n",
    "    def method(self):\n",
    "        print(\"This is class C\")\n",
    "        pass\n",
    "    \n",
    "class D(B,C):\n",
    "    def method(self):\n",
    "        print(\"This is class D\")\n",
    "        pass\n",
    "    \n",
    "method_class = D()\n",
    "method_class.method()"
   ]
  },
  {
   "cell_type": "code",
   "execution_count": 30,
   "id": "6cf76157",
   "metadata": {},
   "outputs": [
    {
     "name": "stdout",
     "output_type": "stream",
     "text": [
      "This is class B\n"
     ]
    }
   ],
   "source": [
    "class A:\n",
    "    pass\n",
    "\n",
    "class B(A):\n",
    "    def method(self):\n",
    "        print(\"This is class B\")\n",
    "        pass\n",
    "    \n",
    "class C(A):\n",
    "    def method(self):\n",
    "        print(\"This is class C\")\n",
    "        pass\n",
    "    \n",
    "class D(B,C):\n",
    "        pass\n",
    "    \n",
    "method_class = D()\n",
    "method_class.method()"
   ]
  },
  {
   "cell_type": "code",
   "execution_count": 31,
   "id": "15af5f92",
   "metadata": {},
   "outputs": [
    {
     "name": "stdout",
     "output_type": "stream",
     "text": [
      "This is class C\n"
     ]
    }
   ],
   "source": [
    "class A:\n",
    "    pass\n",
    "    \n",
    "class B(A):\n",
    "    def method(self):\n",
    "        print(\"This is class B\")\n",
    "        pass\n",
    "    \n",
    "class C(A):\n",
    "    def method(self):\n",
    "        print(\"This is class C\")\n",
    "        pass\n",
    "    \n",
    "class D(C,B):\n",
    "        pass\n",
    "    \n",
    "method_class = D()\n",
    "method_class.method()"
   ]
  },
  {
   "cell_type": "code",
   "execution_count": 32,
   "id": "f71dfef6",
   "metadata": {},
   "outputs": [
    {
     "name": "stdout",
     "output_type": "stream",
     "text": [
      "This is class C\n"
     ]
    }
   ],
   "source": [
    "class A:\n",
    "    def method(self):\n",
    "        print(\"This is class A\")\n",
    "        pass\n",
    "    \n",
    "class B(A):\n",
    "    pass\n",
    "    \n",
    "class C(A):\n",
    "    def method(self):\n",
    "        print(\"This is class C\")\n",
    "        pass\n",
    "    \n",
    "class D(B,C):\n",
    "        pass\n",
    "    \n",
    "method_class = D()\n",
    "method_class.method()"
   ]
  },
  {
   "cell_type": "markdown",
   "id": "485818ec",
   "metadata": {},
   "source": [
    "-----"
   ]
  },
  {
   "cell_type": "code",
   "execution_count": null,
   "id": "5499668f",
   "metadata": {},
   "outputs": [],
   "source": []
  }
 ],
 "metadata": {
  "kernelspec": {
   "display_name": "Python 3",
   "language": "python",
   "name": "python3"
  },
  "language_info": {
   "codemirror_mode": {
    "name": "ipython",
    "version": 3
   },
   "file_extension": ".py",
   "mimetype": "text/x-python",
   "name": "python",
   "nbconvert_exporter": "python",
   "pygments_lexer": "ipython3",
   "version": "3.8.8"
  }
 },
 "nbformat": 4,
 "nbformat_minor": 5
}
